{
 "cells": [
  {
   "cell_type": "markdown",
   "metadata": {
    "id": "LAp75cjtAcDa"
   },
   "source": [
    "# Instruction\n",
    "Problem: *Lightweight model*\n",
    "\n",
    "Using CNN (2-5 layers stack) then explore strategy to reduce model size and training time\n",
    "\n",
    "# Steps\n",
    "1. Find research gap\n",
    "2. Experiment to prove / test, is proposed method solved the research gap?\n",
    "3. test the proposed method to show it is really working\n",
    "4. Compare with the SOTA from literatures\n",
    "5. Analysis to show why the proposed method worked well both ANALYTIC and EMPIRIC\n",
    "6. Finish the paper (min 15 pages, references min 15, DEADLINE 30 NOV 2024!!!"
   ]
  },
  {
   "cell_type": "code",
   "execution_count": 43,
   "metadata": {
    "colab": {
     "base_uri": "https://localhost:8080/"
    },
    "id": "ScW_I4OyPbPu",
    "outputId": "f32951fd-457c-49c8-c134-1a26b2d3694c"
   },
   "outputs": [
    {
     "name": "stdout",
     "output_type": "stream",
     "text": [
      "Python 3.10.13\n"
     ]
    }
   ],
   "source": [
    "!python --version"
   ]
  },
  {
   "cell_type": "markdown",
   "metadata": {
    "id": "d_TklzLYAcDe"
   },
   "source": [
    "# Import & Install Required Packages"
   ]
  },
  {
   "cell_type": "code",
   "execution_count": 44,
   "metadata": {
    "id": "wi1SLfybAcDf"
   },
   "outputs": [],
   "source": [
    "import tensorflow_model_optimization as tfmot  # TensorFlow Model Optimization toolkit"
   ]
  },
  {
   "cell_type": "code",
   "execution_count": 45,
   "metadata": {
    "id": "a6oWnah-AcDg"
   },
   "outputs": [],
   "source": [
    "import os\n",
    "import itertools"
   ]
  },
  {
   "cell_type": "code",
   "execution_count": 46,
   "metadata": {
    "id": "JptjJAtLAcDh"
   },
   "outputs": [],
   "source": [
    "import numpy as np # linear algebra\n",
    "import pandas as pd # data processing, CSV file I/O (e.g. pd.read_csv)\n",
    "\n",
    "import tensorflow as tf\n",
    "import tensorflow.keras as keras"
   ]
  },
  {
   "cell_type": "code",
   "execution_count": 47,
   "metadata": {
    "id": "Je60zRQJAcDh"
   },
   "outputs": [
    {
     "name": "stdout",
     "output_type": "stream",
     "text": [
      "Requirement already satisfied: plotly in c:\\users\\user\\anaconda3\\envs\\digit-recognition\\lib\\site-packages (5.24.1)\n",
      "Requirement already satisfied: tenacity>=6.2.0 in c:\\users\\user\\anaconda3\\envs\\digit-recognition\\lib\\site-packages (from plotly) (9.0.0)\n",
      "Requirement already satisfied: packaging in c:\\users\\user\\anaconda3\\envs\\digit-recognition\\lib\\site-packages (from plotly) (24.1)\n",
      "Note: you may need to restart the kernel to use updated packages.\n"
     ]
    }
   ],
   "source": [
    "import matplotlib.pyplot as plt\n",
    "\n",
    "%pip install plotly\n",
    "import plotly.graph_objs as go"
   ]
  },
  {
   "cell_type": "code",
   "execution_count": 48,
   "metadata": {
    "id": "leXZz5H-AcDi"
   },
   "outputs": [
    {
     "name": "stdout",
     "output_type": "stream",
     "text": [
      "Requirement already satisfied: scikit-learn in c:\\users\\user\\anaconda3\\envs\\digit-recognition\\lib\\site-packages (1.5.2)\n",
      "Requirement already satisfied: numpy>=1.19.5 in c:\\users\\user\\anaconda3\\envs\\digit-recognition\\lib\\site-packages (from scikit-learn) (1.26.4)\n",
      "Requirement already satisfied: scipy>=1.6.0 in c:\\users\\user\\anaconda3\\envs\\digit-recognition\\lib\\site-packages (from scikit-learn) (1.13.1)\n",
      "Requirement already satisfied: joblib>=1.2.0 in c:\\users\\user\\anaconda3\\envs\\digit-recognition\\lib\\site-packages (from scikit-learn) (1.4.2)\n",
      "Requirement already satisfied: threadpoolctl>=3.1.0 in c:\\users\\user\\anaconda3\\envs\\digit-recognition\\lib\\site-packages (from scikit-learn) (3.5.0)\n",
      "Note: you may need to restart the kernel to use updated packages.\n"
     ]
    }
   ],
   "source": [
    "%pip install scikit-learn\n",
    "\n",
    "from scipy.io import loadmat\n",
    "from tensorflow.keras import layers, models\n",
    "from sklearn.model_selection import train_test_split\n",
    "from sklearn.metrics import confusion_matrix, accuracy_score\n",
    "from keras.datasets import mnist\n",
    "from keras.utils import to_categorical\n",
    "\n",
    "from plotly import tools, subplots\n",
    "from plotly.offline import download_plotlyjs, init_notebook_mode, plot, iplot"
   ]
  },
  {
   "cell_type": "markdown",
   "metadata": {
    "id": "yraXDoo8AcDj"
   },
   "source": [
    "# Load dataset"
   ]
  },
  {
   "cell_type": "code",
   "execution_count": 49,
   "metadata": {
    "colab": {
     "base_uri": "https://localhost:8080/"
    },
    "id": "EXs3jSmGAcDl",
    "outputId": "b7c3a5c9-319d-4c02-9e28-0c0e83710c15"
   },
   "outputs": [],
   "source": [
    "mnist_data = mnist.load_data()\n",
    "(X_train, Y_train), (X_test, Y_test) = mnist_data"
   ]
  },
  {
   "cell_type": "code",
   "execution_count": 50,
   "metadata": {
    "colab": {
     "base_uri": "https://localhost:8080/"
    },
    "id": "ThV1PM0EER8d",
    "outputId": "8f4b5acd-4951-42b9-e2fc-1bb6129ae0b5"
   },
   "outputs": [
    {
     "name": "stdout",
     "output_type": "stream",
     "text": [
      "Train labels:  {0: 5923, 1: 6742, 2: 5958, 3: 6131, 4: 5842, 5: 5421, 6: 5918, 7: 6265, 8: 5851, 9: 5949}\n",
      "\n",
      "Test labels:  {0: 980, 1: 1135, 2: 1032, 3: 1010, 4: 982, 5: 892, 6: 958, 7: 1028, 8: 974, 9: 1009}\n"
     ]
    }
   ],
   "source": [
    "# count the number of unique train labels\n",
    "unique, counts = np.unique(Y_train, return_counts=True)\n",
    "print(\"Train labels: \", dict(zip(unique, counts)))\n",
    "mnist_data = mnist.load_data()\n",
    "(X_train, Y_train), (X_test, Y_test) = mnist_data\n",
    "\n",
    "# count the number of unique test labels\n",
    "unique, counts = np.unique(Y_test, return_counts=True)\n",
    "print(\"\\nTest labels: \", dict(zip(unique, counts)))"
   ]
  },
  {
   "cell_type": "code",
   "execution_count": 51,
   "metadata": {
    "id": "s-FCt8ZNEfk2"
   },
   "outputs": [],
   "source": [
    "# convert to one-hot vector\n",
    "Y_train = to_categorical(Y_train)\n",
    "Y_test = to_categorical(Y_test)"
   ]
  },
  {
   "cell_type": "code",
   "execution_count": 52,
   "metadata": {
    "colab": {
     "base_uri": "https://localhost:8080/"
    },
    "id": "PGGHDt9DP3qU",
    "outputId": "f8628aba-dc0c-4aee-a5f4-88f7b8045c52"
   },
   "outputs": [
    {
     "data": {
      "text/plain": [
       "60000"
      ]
     },
     "execution_count": 52,
     "metadata": {},
     "output_type": "execute_result"
    }
   ],
   "source": [
    "len(Y_train)"
   ]
  },
  {
   "cell_type": "markdown",
   "metadata": {
    "id": "ctm7qVa5AcDp"
   },
   "source": [
    "# Define the CNN model"
   ]
  },
  {
   "cell_type": "code",
   "execution_count": 53,
   "metadata": {
    "colab": {
     "base_uri": "https://localhost:8080/"
    },
    "id": "-3CCQ9faAcDp",
    "outputId": "d58cb088-7b3f-40cc-a76d-cfd70b784771"
   },
   "outputs": [
    {
     "name": "stdout",
     "output_type": "stream",
     "text": [
      "Model: \"sequential_1\"\n",
      "_________________________________________________________________\n",
      " Layer (type)                Output Shape              Param #   \n",
      "=================================================================\n",
      " reshape_1 (Reshape)         (None, 28, 28, 1)         0         \n",
      "                                                                 \n",
      " conv2d_2 (Conv2D)           (None, 28, 28, 8)         136       \n",
      "                                                                 \n",
      " max_pooling2d_2 (MaxPooling  (None, 4, 4, 8)          0         \n",
      " 2D)                                                             \n",
      "                                                                 \n",
      " conv2d_3 (Conv2D)           (None, 4, 4, 16)          528       \n",
      "                                                                 \n",
      " max_pooling2d_3 (MaxPooling  (None, 1, 1, 16)         0         \n",
      " 2D)                                                             \n",
      "                                                                 \n",
      " flatten_1 (Flatten)         (None, 16)                0         \n",
      "                                                                 \n",
      " dense_1 (Dense)             (None, 10)                170       \n",
      "                                                                 \n",
      "=================================================================\n",
      "Total params: 834\n",
      "Trainable params: 834\n",
      "Non-trainable params: 0\n",
      "_________________________________________________________________\n"
     ]
    }
   ],
   "source": [
    "model = keras.Sequential([\n",
    "        keras.layers.InputLayer(input_shape=(28, 28)),\n",
    "        keras.layers.Reshape(target_shape=(28, 28, 1)),\n",
    "        keras.layers.Conv2D(8, kernel_size=(4, 4), strides=(1, 1), padding='same', activation='relu'),\n",
    "        keras.layers.MaxPooling2D((8, 8), padding='same'),\n",
    "        keras.layers.Conv2D(16, kernel_size=(2, 2), strides=(1, 1), padding='same', activation='relu'),\n",
    "        keras.layers.MaxPooling2D((4, 4), padding='same'),\n",
    "        keras.layers.Flatten(),\n",
    "        keras.layers.Dense(10)\n",
    "    ])\n",
    "\n",
    "model.summary()"
   ]
  },
  {
   "cell_type": "markdown",
   "metadata": {
    "id": "kZ2DAHnNAcDp"
   },
   "source": [
    "# Compile and training the model"
   ]
  },
  {
   "cell_type": "code",
   "execution_count": 54,
   "metadata": {
    "colab": {
     "base_uri": "https://localhost:8080/"
    },
    "id": "_JbhrEX6AcDq",
    "outputId": "1e936ff2-061f-49f5-b19f-aca332d3d5c7"
   },
   "outputs": [
    {
     "name": "stdout",
     "output_type": "stream",
     "text": [
      "Epoch 1/10\n",
      "1500/1500 [==============================] - 24s 16ms/step - loss: 5.7726 - accuracy: 0.4764 - val_loss: 1.0065 - val_accuracy: 0.6887\n",
      "Epoch 2/10\n",
      "1500/1500 [==============================] - 25s 17ms/step - loss: 0.7731 - accuracy: 0.7577 - val_loss: 0.5876 - val_accuracy: 0.8066\n",
      "Epoch 3/10\n",
      "1500/1500 [==============================] - 20s 13ms/step - loss: 0.4985 - accuracy: 0.8430 - val_loss: 0.4239 - val_accuracy: 0.8652\n",
      "Epoch 4/10\n",
      "1500/1500 [==============================] - 26s 18ms/step - loss: 0.3818 - accuracy: 0.8795 - val_loss: 0.3183 - val_accuracy: 0.9037\n",
      "Epoch 5/10\n",
      "1500/1500 [==============================] - 21s 14ms/step - loss: 0.3146 - accuracy: 0.9013 - val_loss: 0.2554 - val_accuracy: 0.9196\n",
      "Epoch 6/10\n",
      "1500/1500 [==============================] - 21s 14ms/step - loss: 0.2636 - accuracy: 0.9186 - val_loss: 0.2411 - val_accuracy: 0.9277\n",
      "Epoch 7/10\n",
      "1500/1500 [==============================] - 26s 18ms/step - loss: 0.2319 - accuracy: 0.9280 - val_loss: 0.1856 - val_accuracy: 0.9453\n",
      "Epoch 8/10\n",
      "1500/1500 [==============================] - 20s 13ms/step - loss: 0.2126 - accuracy: 0.9340 - val_loss: 0.2006 - val_accuracy: 0.9386\n",
      "Epoch 9/10\n",
      "1500/1500 [==============================] - 31s 20ms/step - loss: 0.2003 - accuracy: 0.9385 - val_loss: 0.1652 - val_accuracy: 0.9513\n",
      "Epoch 10/10\n",
      "1500/1500 [==============================] - 30s 20ms/step - loss: 0.1854 - accuracy: 0.9413 - val_loss: 0.1916 - val_accuracy: 0.9433\n"
     ]
    }
   ],
   "source": [
    "model.compile(optimizer='adam',\n",
    "              loss=tf.keras.losses.CategoricalCrossentropy(from_logits=True),\n",
    "              metrics=['accuracy'])\n",
    "\n",
    "# training the model\n",
    "history = model.fit(X_train, Y_train, epochs=10, validation_split=0.2)"
   ]
  },
  {
   "cell_type": "markdown",
   "metadata": {
    "id": "FNRpUtiDAcDq"
   },
   "source": [
    "# Result"
   ]
  },
  {
   "cell_type": "markdown",
   "metadata": {
    "id": "RPjXoCCtncKR"
   },
   "source": [
    "# Visualization"
   ]
  },
  {
   "cell_type": "code",
   "execution_count": 55,
   "metadata": {
    "id": "ZxuPZ2T1nejf"
   },
   "outputs": [],
   "source": [
    "def plot_images_sample(X, Y):\n",
    "    plt.figure(figsize=(10,10))\n",
    "    rand_indicies = np.random.randint(len(X), size=25)\n",
    "    for i in range(25):\n",
    "        plt.subplot(5,5,i+1)\n",
    "        plt.xticks([])\n",
    "        plt.yticks([])\n",
    "        plt.grid(False)\n",
    "        index = rand_indicies[i]\n",
    "        plt.imshow(np.squeeze(X[index]), cmap=plt.cm.binary)\n",
    "        # The CIFAR labels happen to be arrays,\n",
    "        # which is why you need the extra index\n",
    "        plt.xlabel(Y[index])\n",
    "    plt.show()\n",
    "\n",
    "\n",
    "# plot_images_sample(mnist_data, mnist_label)"
   ]
  },
  {
   "cell_type": "markdown",
   "metadata": {
    "id": "J3w1jut2AcDq"
   },
   "source": [
    "# Draw plot for CNN training"
   ]
  },
  {
   "cell_type": "code",
   "execution_count": 56,
   "metadata": {
    "colab": {
     "base_uri": "https://localhost:8080/",
     "height": 455
    },
    "id": "K6IYsUj_AcDr",
    "outputId": "91161044-c4f6-483b-84ee-e846869837e1"
   },
   "outputs": [
    {
     "data": {
      "image/png": "[encoded data removed]",
      "text/plain": [
       "<Figure size 640x480 with 1 Axes>"
      ]
     },
     "metadata": {},
     "output_type": "display_data"
    }
   ],
   "source": [
    "# Draw plot for CNN training\n",
    "plt.plot(history.history['accuracy'], label='accuracy')\n",
    "plt.plot(history.history['val_accuracy'], label='val_accuracy')\n",
    "plt.xlabel('Epoch')\n",
    "plt.ylabel('Accuracy')\n",
    "plt.ylim([0.5, 1])\n",
    "plt.legend(loc='lower right')\n",
    "plt.show()"
   ]
  },
  {
   "cell_type": "code",
   "execution_count": 57,
   "metadata": {
    "colab": {
     "base_uri": "https://localhost:8080/"
    },
    "id": "vh5jqDsnAcDr",
    "outputId": "a151681f-e942-42c2-ec3f-be2dc9d922f2"
   },
   "outputs": [
    {
     "name": "stdout",
     "output_type": "stream",
     "text": [
      "313/313 [==============================] - 2s 4ms/step - loss: 0.1885 - accuracy: 0.9402\n",
      "Test accuracy: 0.9401999711990356\n"
     ]
    }
   ],
   "source": [
    "# Evaluate the model on the test data\n",
    "test_loss, test_acc = model.evaluate(X_test, Y_test)\n",
    "\n",
    "print(f\"Test accuracy: {test_acc}\")"
   ]
  },
  {
   "cell_type": "markdown",
   "metadata": {
    "id": "SATT44wdAcDs"
   },
   "source": [
    "# Prediction"
   ]
  },
  {
   "cell_type": "code",
   "execution_count": 58,
   "metadata": {
    "colab": {
     "base_uri": "https://localhost:8080/",
     "height": 843
    },
    "id": "rcvyrtgeAcDs",
    "outputId": "cd9fb1e2-50e8-4ff9-e652-618b27cd24ba"
   },
   "outputs": [
    {
     "name": "stdout",
     "output_type": "stream",
     "text": [
      "313/313 [==============================] - 1s 4ms/step\n"
     ]
    },
    {
     "data": {
      "image/png": "[encoded data removed]",
      "text/plain": [
       "<Figure size 1000x1000 with 25 Axes>"
      ]
     },
     "metadata": {},
     "output_type": "display_data"
    }
   ],
   "source": [
    "predictions = model.predict(X_test)\n",
    "predictions = np.argmax(predictions, axis=1)\n",
    "\n",
    "plot_images_sample(X_test, predictions)"
   ]
  },
  {
   "cell_type": "markdown",
   "metadata": {
    "id": "5cwEsINuAcDt"
   },
   "source": [
    "# Wrong test"
   ]
  },
  {
   "cell_type": "code",
   "execution_count": 59,
   "metadata": {
    "colab": {
     "base_uri": "https://localhost:8080/",
     "height": 826
    },
    "id": "kRkz_ioxAcDt",
    "outputId": "f22f127c-c07f-4e9b-e7f8-862edbda1ce8"
   },
   "outputs": [
    {
     "data": {
      "image/png": "[encoded data removed]",
      "text/plain": [
       "<Figure size 1000x1000 with 25 Axes>"
      ]
     },
     "metadata": {},
     "output_type": "display_data"
    }
   ],
   "source": [
    "X_test_wrong = []\n",
    "predictions_wrong = []\n",
    "for i in range(len(X_test)):\n",
    "    if predictions[i] != np.argmax(Y_test[i]):\n",
    "        X_test_wrong.append(X_test[i])\n",
    "        predictions_wrong.append(predictions[i])\n",
    "\n",
    "plot_images_sample(X_test_wrong, predictions_wrong)"
   ]
  },
  {
   "cell_type": "markdown",
   "metadata": {
    "id": "Or6hUDh0AcDu"
   },
   "source": [
    "# Plotting the loss error (Plotly)"
   ]
  },
  {
   "cell_type": "code",
   "execution_count": 63,
   "metadata": {},
   "outputs": [
    {
     "name": "stdout",
     "output_type": "stream",
     "text": [
      "Note: you may need to restart the kernel to use updated packages.\n"
     ]
    }
   ],
   "source": [
    "%pip install nbformat>=4.2.0"
   ]
  },
  {
   "cell_type": "code",
   "execution_count": 65,
   "metadata": {
    "id": "iqmNouXNAcDu"
   },
   "outputs": [],
   "source": [
    "# Thanks to https://www.kaggle.com/vbmokin/tensorflow-keras-gpu-for-chinese-mnist-prediction\n",
    "def create_trace(x,y,ylabel,color):\n",
    "        trace = go.Scatter(\n",
    "            x = x,y = y,\n",
    "            name=ylabel,\n",
    "            marker=dict(color=color),\n",
    "            mode = \"markers+lines\",\n",
    "            text=x\n",
    "        )\n",
    "        return trace\n",
    "\n",
    "def plot_accuracy_and_loss(train_model):\n",
    "    hist = train_model.history\n",
    "    acc = hist['accuracy']\n",
    "    val_acc = hist['val_accuracy']\n",
    "    loss = hist['loss']\n",
    "    val_loss = hist['val_loss']\n",
    "    epochs = list(range(1,len(acc)+1))\n",
    "    #define the traces\n",
    "    trace_ta = create_trace(epochs,acc,\"Training accuracy\", \"Green\")\n",
    "    trace_va = create_trace(epochs,val_acc,\"Validation accuracy\", \"Red\")\n",
    "    trace_tl = create_trace(epochs,loss,\"Training loss\", \"Blue\")\n",
    "    trace_vl = create_trace(epochs,val_loss,\"Validation loss\", \"Magenta\")\n",
    "    fig = subplots.make_subplots(rows=1,cols=2, subplot_titles=('Training and validation accuracy',\n",
    "                                                             'Training and validation loss'))\n",
    "    #add traces to the figure\n",
    "    fig.append_trace(trace_ta,1,1)\n",
    "    fig.append_trace(trace_va,1,1)\n",
    "    fig.append_trace(trace_tl,1,2)\n",
    "    fig.append_trace(trace_vl,1,2)\n",
    "    #set the layout for the figure\n",
    "    fig['layout']['xaxis'].update(title = 'Epoch')\n",
    "    fig['layout']['xaxis2'].update(title = 'Epoch')\n",
    "    fig['layout']['yaxis'].update(title = 'Accuracy', range=[0,1])\n",
    "    fig['layout']['yaxis2'].update(title = 'Loss', range=[0,1])\n",
    "    #plot\n",
    "    iplot(fig, filename='accuracy-loss')"
   ]
  },
  {
   "cell_type": "code",
   "execution_count": 66,
   "metadata": {
    "colab": {
     "base_uri": "https://localhost:8080/",
     "height": 542
    },
    "id": "Lrge8hSIAcDu",
    "outputId": "d21ec1d2-8457-4e5d-935c-540bc178f80c"
   },
   "outputs": [
    {
     "ename": "ValueError",
     "evalue": "Mime type rendering requires nbformat>=4.2.0 but it is not installed",
     "output_type": "error",
     "traceback": [
      "\u001b[1;31m---------------------------------------------------------------------------\u001b[0m",
      "\u001b[1;31mValueError\u001b[0m                                Traceback (most recent call last)",
      "Cell \u001b[1;32mIn[66], line 1\u001b[0m\n\u001b[1;32m----> 1\u001b[0m \u001b[43mplot_accuracy_and_loss\u001b[49m\u001b[43m(\u001b[49m\u001b[43mhistory\u001b[49m\u001b[43m)\u001b[49m\n",
      "Cell \u001b[1;32mIn[65], line 37\u001b[0m, in \u001b[0;36mplot_accuracy_and_loss\u001b[1;34m(train_model)\u001b[0m\n\u001b[0;32m     35\u001b[0m fig[\u001b[38;5;124m'\u001b[39m\u001b[38;5;124mlayout\u001b[39m\u001b[38;5;124m'\u001b[39m][\u001b[38;5;124m'\u001b[39m\u001b[38;5;124myaxis2\u001b[39m\u001b[38;5;124m'\u001b[39m]\u001b[38;5;241m.\u001b[39mupdate(title \u001b[38;5;241m=\u001b[39m \u001b[38;5;124m'\u001b[39m\u001b[38;5;124mLoss\u001b[39m\u001b[38;5;124m'\u001b[39m, \u001b[38;5;28mrange\u001b[39m\u001b[38;5;241m=\u001b[39m[\u001b[38;5;241m0\u001b[39m,\u001b[38;5;241m1\u001b[39m])\n\u001b[0;32m     36\u001b[0m \u001b[38;5;66;03m#plot\u001b[39;00m\n\u001b[1;32m---> 37\u001b[0m \u001b[43miplot\u001b[49m\u001b[43m(\u001b[49m\u001b[43mfig\u001b[49m\u001b[43m,\u001b[49m\u001b[43m \u001b[49m\u001b[43mfilename\u001b[49m\u001b[38;5;241;43m=\u001b[39;49m\u001b[38;5;124;43m'\u001b[39;49m\u001b[38;5;124;43maccuracy-loss\u001b[39;49m\u001b[38;5;124;43m'\u001b[39;49m\u001b[43m)\u001b[49m\n",
      "File \u001b[1;32m~\\anaconda3\\envs\\digit-recognition\\lib\\site-packages\\plotly\\offline\\offline.py:387\u001b[0m, in \u001b[0;36miplot\u001b[1;34m(figure_or_data, show_link, link_text, validate, image, filename, image_width, image_height, config, auto_play, animation_opts)\u001b[0m\n\u001b[0;32m    382\u001b[0m post_script \u001b[38;5;241m=\u001b[39m build_save_image_post_script(\n\u001b[0;32m    383\u001b[0m     image, filename, image_height, image_width, \u001b[38;5;124m\"\u001b[39m\u001b[38;5;124miplot\u001b[39m\u001b[38;5;124m\"\u001b[39m\n\u001b[0;32m    384\u001b[0m )\n\u001b[0;32m    386\u001b[0m \u001b[38;5;66;03m# Show figure\u001b[39;00m\n\u001b[1;32m--> 387\u001b[0m \u001b[43mpio\u001b[49m\u001b[38;5;241;43m.\u001b[39;49m\u001b[43mshow\u001b[49m\u001b[43m(\u001b[49m\n\u001b[0;32m    388\u001b[0m \u001b[43m    \u001b[49m\u001b[43mfigure\u001b[49m\u001b[43m,\u001b[49m\n\u001b[0;32m    389\u001b[0m \u001b[43m    \u001b[49m\u001b[43mvalidate\u001b[49m\u001b[38;5;241;43m=\u001b[39;49m\u001b[43mvalidate\u001b[49m\u001b[43m,\u001b[49m\n\u001b[0;32m    390\u001b[0m \u001b[43m    \u001b[49m\u001b[43mconfig\u001b[49m\u001b[38;5;241;43m=\u001b[39;49m\u001b[43mconfig\u001b[49m\u001b[43m,\u001b[49m\n\u001b[0;32m    391\u001b[0m \u001b[43m    \u001b[49m\u001b[43mauto_play\u001b[49m\u001b[38;5;241;43m=\u001b[39;49m\u001b[43mauto_play\u001b[49m\u001b[43m,\u001b[49m\n\u001b[0;32m    392\u001b[0m \u001b[43m    \u001b[49m\u001b[43mpost_script\u001b[49m\u001b[38;5;241;43m=\u001b[39;49m\u001b[43mpost_script\u001b[49m\u001b[43m,\u001b[49m\n\u001b[0;32m    393\u001b[0m \u001b[43m    \u001b[49m\u001b[43manimation_opts\u001b[49m\u001b[38;5;241;43m=\u001b[39;49m\u001b[43manimation_opts\u001b[49m\u001b[43m,\u001b[49m\n\u001b[0;32m    394\u001b[0m \u001b[43m\u001b[49m\u001b[43m)\u001b[49m\n",
      "File \u001b[1;32m~\\anaconda3\\envs\\digit-recognition\\lib\\site-packages\\plotly\\io\\_renderers.py:394\u001b[0m, in \u001b[0;36mshow\u001b[1;34m(fig, renderer, validate, **kwargs)\u001b[0m\n\u001b[0;32m    389\u001b[0m         \u001b[38;5;28;01mraise\u001b[39;00m \u001b[38;5;167;01mValueError\u001b[39;00m(\n\u001b[0;32m    390\u001b[0m             \u001b[38;5;124m\"\u001b[39m\u001b[38;5;124mMime type rendering requires ipython but it is not installed\u001b[39m\u001b[38;5;124m\"\u001b[39m\n\u001b[0;32m    391\u001b[0m         )\n\u001b[0;32m    393\u001b[0m     \u001b[38;5;28;01mif\u001b[39;00m \u001b[38;5;129;01mnot\u001b[39;00m nbformat \u001b[38;5;129;01mor\u001b[39;00m Version(nbformat\u001b[38;5;241m.\u001b[39m__version__) \u001b[38;5;241m<\u001b[39m Version(\u001b[38;5;124m\"\u001b[39m\u001b[38;5;124m4.2.0\u001b[39m\u001b[38;5;124m\"\u001b[39m):\n\u001b[1;32m--> 394\u001b[0m         \u001b[38;5;28;01mraise\u001b[39;00m \u001b[38;5;167;01mValueError\u001b[39;00m(\n\u001b[0;32m    395\u001b[0m             \u001b[38;5;124m\"\u001b[39m\u001b[38;5;124mMime type rendering requires nbformat>=4.2.0 but it is not installed\u001b[39m\u001b[38;5;124m\"\u001b[39m\n\u001b[0;32m    396\u001b[0m         )\n\u001b[0;32m    398\u001b[0m     ipython_display\u001b[38;5;241m.\u001b[39mdisplay(bundle, raw\u001b[38;5;241m=\u001b[39m\u001b[38;5;28;01mTrue\u001b[39;00m)\n\u001b[0;32m    400\u001b[0m \u001b[38;5;66;03m# external renderers\u001b[39;00m\n",
      "\u001b[1;31mValueError\u001b[0m: Mime type rendering requires nbformat>=4.2.0 but it is not installed"
     ]
    }
   ],
   "source": [
    "plot_accuracy_and_loss(history)"
   ]
  },
  {
   "cell_type": "markdown",
   "metadata": {
    "id": "ClOPEvKAAcDv"
   },
   "source": [
    "# Confusion matrix"
   ]
  },
  {
   "cell_type": "code",
   "execution_count": null,
   "metadata": {
    "id": "A9f8ZLnzAcDv"
   },
   "outputs": [],
   "source": [
    "def plot_cm(train, target_train):\n",
    "# Look at confusion matrix\n",
    "# Thanks to https://www.kaggle.com/yassineghouzam/introduction-to-cnn-keras-0-997-top-6\n",
    "\n",
    "    def plot_confusion_matrix(cm, classes,\n",
    "                              normalize=False,\n",
    "                              title='Confusion matrix',\n",
    "                              cmap=plt.cm.Blues):\n",
    "        \"\"\"\n",
    "        This function prints and plots the confusion matrix.\n",
    "        Normalization can be applied by setting `normalize=True`.\n",
    "        \"\"\"\n",
    "        plt.imshow(cm, interpolation='nearest', cmap=cmap)\n",
    "        plt.title(title)\n",
    "        plt.colorbar()\n",
    "        tick_marks = np.arange(len(classes))\n",
    "        plt.xticks(tick_marks, classes, rotation=45)\n",
    "        plt.yticks(tick_marks, classes)\n",
    "\n",
    "        if normalize:\n",
    "            cm = cm.astype('float') / cm.sum(axis=1)[:, np.newaxis]\n",
    "\n",
    "        thresh = cm.max() / 2.\n",
    "        for i, j in itertools.product(range(cm.shape[0]), range(cm.shape[1])):\n",
    "            plt.text(j, i, cm[i, j],\n",
    "                     horizontalalignment=\"center\",\n",
    "                     color=\"white\" if cm[i, j] > thresh else \"black\")\n",
    "\n",
    "        plt.tight_layout()\n",
    "        plt.ylabel('True label')\n",
    "        plt.xlabel('Predicted label')\n",
    "\n",
    "    # Predict the values from the validation dataset\n",
    "    Y_pred = model.predict(train)\n",
    "    # Convert predictions classes to one hot vectors\n",
    "    Y_pred_classes = np.argmax(Y_pred,axis = 1)\n",
    "    # Convert validation observations to one hot vectors\n",
    "    Y_true = np.argmax(target_train,axis = 1)\n",
    "    # compute the confusion matrix\n",
    "    confusion_mtx = confusion_matrix(Y_true, Y_pred_classes)\n",
    "    # plot the confusion matrix\n",
    "    plot_confusion_matrix(confusion_mtx, classes = range(10))"
   ]
  },
  {
   "cell_type": "code",
   "execution_count": null,
   "metadata": {
    "colab": {
     "base_uri": "https://localhost:8080/",
     "height": 523
    },
    "id": "q3UGqwtwAcDw",
    "outputId": "d6f0bc6f-5675-4e72-da78-49e662e828aa",
    "scrolled": true
   },
   "outputs": [],
   "source": [
    "plot_cm(X_train, Y_train)"
   ]
  },
  {
   "cell_type": "code",
   "execution_count": null,
   "metadata": {
    "colab": {
     "base_uri": "https://localhost:8080/",
     "height": 523
    },
    "id": "-PoOVK3eAcDw",
    "outputId": "947a79c1-072f-43d6-8792-87452f0a627c"
   },
   "outputs": [],
   "source": [
    "# Draw confusing matrix for test data\n",
    "plot_cm(X_test, Y_test)"
   ]
  },
  {
   "cell_type": "markdown",
   "metadata": {
    "id": "0KyF6_k1AcDx"
   },
   "source": [
    "# Save the model to a file"
   ]
  },
  {
   "cell_type": "code",
   "execution_count": null,
   "metadata": {
    "colab": {
     "base_uri": "https://localhost:8080/"
    },
    "id": "zIgUicAlAcDx",
    "outputId": "dc6b9409-19f9-4472-f2d1-117dfbbc5728"
   },
   "outputs": [],
   "source": [
    "# model_save_path = 'cnn_model.h5'\n",
    "model_save_path = 'cnn_model.keras'\n",
    "model.save(model_save_path)\n",
    "\n",
    "# Get the size of the model in bytes\n",
    "model_size = os.path.getsize(model_save_path)\n",
    "print(f\"Model size: {model_size / 1024:.2f} KB\")"
   ]
  },
  {
   "cell_type": "markdown",
   "metadata": {
    "id": "8UNyLpBrAcDx"
   },
   "source": [
    "# Define the model and apply the sparsity API"
   ]
  },
  {
   "cell_type": "code",
   "execution_count": null,
   "metadata": {
    "colab": {
     "base_uri": "https://localhost:8080/"
    },
    "id": "oDyZ7SdTAcD6",
    "outputId": "43b7aef7-d1c3-47ca-e912-b9d0c7b2fbe0"
   },
   "outputs": [],
   "source": [
    "prune_low_magnitude = tfmot.sparsity.keras.prune_low_magnitude\n",
    "pruning_params = {\n",
    "      # 'pruning_schedule': tfmot.sparsity.keras.ConstantSparsity(0.5, begin_step=0, frequency=100)\n",
    "      'pruning_schedule': tfmot.sparsity.keras.ConstantSparsity(0.1, begin_step=0, frequency=100)\n",
    "  }\n",
    "\n",
    "callbacks = [\n",
    "  tfmot.sparsity.keras.UpdatePruningStep()\n",
    "]\n",
    "\n",
    "pruned_model = prune_low_magnitude(model, **pruning_params)\n",
    "\n",
    "# Use smaller learning rate for fine-tuning\n",
    "opt = keras.optimizers.Adam(learning_rate=1e-5)\n",
    "\n",
    "pruned_model.compile(\n",
    "  loss=keras.losses.CategoricalCrossentropy(from_logits=True),\n",
    "  optimizer=opt,\n",
    "  metrics=['accuracy']\n",
    ")\n",
    "\n",
    "pruned_model.summary()"
   ]
  },
  {
   "cell_type": "markdown",
   "metadata": {
    "id": "1P-bMkwxAcD7"
   },
   "source": [
    "# Pruning Process"
   ]
  },
  {
   "cell_type": "code",
   "execution_count": null,
   "metadata": {
    "colab": {
     "base_uri": "https://localhost:8080/"
    },
    "id": "dNLmQDdxAcD7",
    "outputId": "4845c0dd-ed79-4985-d12a-6f2216830b7d"
   },
   "outputs": [],
   "source": [
    "pruned_model.fit(\n",
    "  X_train,\n",
    "  Y_train,\n",
    "  epochs=10,\n",
    "  validation_split=0.2,\n",
    "  callbacks=callbacks)"
   ]
  },
  {
   "cell_type": "code",
   "execution_count": null,
   "metadata": {
    "colab": {
     "base_uri": "https://localhost:8080/"
    },
    "id": "nA5jCS79I3hu",
    "outputId": "5b178c0b-4d71-4322-b00c-897c061d6c78"
   },
   "outputs": [],
   "source": [
    "model_save_path = 'cnn_pruned_model.keras'\n",
    "pruned_model.save(model_save_path)\n",
    "\n",
    "# Get the size of the model in bytes\n",
    "model_size = os.path.getsize(model_save_path)\n",
    "print(f\"Model size after pruning: {model_size / 1024:.2f} KB\")"
   ]
  },
  {
   "cell_type": "code",
   "execution_count": null,
   "metadata": {
    "colab": {
     "base_uri": "https://localhost:8080/"
    },
    "id": "m2DYobRsR6J7",
    "outputId": "4d799a5a-1a0f-46db-b2c6-9d533dd2ea1a"
   },
   "outputs": [],
   "source": [
    "model_for_export = tfmot.sparsity.keras.strip_pruning(pruned_model)\n",
    "converter = tf.lite.TFLiteConverter.from_keras_model(model_for_export)\n",
    "tflite_model = converter.convert()\n",
    "\n",
    "# Save the TFLite model to a file\n",
    "model_save_path = 'pruned_model.tflite'\n",
    "with open('pruned_model.tflite', 'wb') as f:\n",
    "    f.write(tflite_model)\n",
    "\n",
    "model_size = os.path.getsize(model_save_path)\n",
    "print(f\"Model size after pruning + convert to tf lite: {model_size / 1024:.2f} KB\")"
   ]
  },
  {
   "cell_type": "markdown",
   "metadata": {
    "id": "DkYL9ENMVemN"
   },
   "source": [
    "# Post Training Quantization"
   ]
  },
  {
   "cell_type": "code",
   "execution_count": null,
   "metadata": {
    "id": "EIYuob3MVhSF"
   },
   "outputs": [],
   "source": [
    "# Strip the pruning wrappers to finalize the pruned model\n",
    "final_model = tfmot.sparsity.keras.strip_pruning(pruned_model)\n",
    "\n",
    "# Convert to TensorFlow Lite model with quantization\n",
    "converter = tf.lite.TFLiteConverter.from_keras_model(final_model)\n",
    "\n",
    "# Set quantization parameters\n",
    "converter.optimizations = [tf.lite.Optimize.DEFAULT]  # Default optimization includes quantization\n",
    "\n",
    "# Optionally, if you have representative data, you can enable full integer quantization:\n",
    "# Provide a representative dataset for better accuracy in quantization\n",
    "def representative_dataset():\n",
    "    for data in X_test.take(100):  # use a small sample of your data <<< what if we change this to 1000? to all data? 70rb? how?\n",
    "        yield [tf.dtypes.cast(data, tf.float32)] # can we change this to integer?\n",
    "\n",
    "converter.representative_dataset = representative_dataset\n",
    "converter.target_spec.supported_types = [tf.float16]  # This can be int8 as well, hm... << nope, error\n",
    "\n",
    "# Convert the model\n",
    "quantized_tflite_model = converter.convert()\n",
    "\n",
    "# Save the quantized model to a file\n",
    "with open('quantized_pruned_model.tflite', 'wb') as f:\n",
    "    f.write(quantized_tflite_model)\n",
    "\n",
    "# To load and use the TFLite model later:\n",
    "interpreter = tf.lite.Interpreter(model_path='quantized_pruned_model.tflite')\n",
    "interpreter.allocate_tensors()"
   ]
  },
  {
   "cell_type": "code",
   "execution_count": null,
   "metadata": {
    "id": "TfaA3NBHrJHh"
   },
   "outputs": [],
   "source": [
    "final_model.compile(\n",
    "  loss=keras.losses.CategoricalCrossentropy(from_logits=True),\n",
    "  optimizer=opt,\n",
    "  metrics=['accuracy']\n",
    ")"
   ]
  },
  {
   "cell_type": "code",
   "execution_count": null,
   "metadata": {
    "colab": {
     "base_uri": "https://localhost:8080/"
    },
    "id": "h6qoUcObq2w-",
    "outputId": "645c2ab6-f34f-4328-8066-f18654024c84"
   },
   "outputs": [],
   "source": [
    "final_model.fit(\n",
    "  X_train,\n",
    "  Y_train,\n",
    "  epochs=10,\n",
    "  validation_split=0.2,\n",
    "  callbacks=callbacks)"
   ]
  },
  {
   "cell_type": "code",
   "execution_count": null,
   "metadata": {
    "colab": {
     "base_uri": "https://localhost:8080/"
    },
    "id": "8x5jEvJ2Vrcz",
    "outputId": "7adfafec-52c5-4e59-c19e-326defd52498"
   },
   "outputs": [],
   "source": [
    "model_size = os.path.getsize('quantized_pruned_model.tflite')\n",
    "print(f\"Model size after quantization: {model_size / 1024:.2f} KB\")"
   ]
  },
  {
   "cell_type": "markdown",
   "metadata": {
    "id": "aK-s0GOQY-zQ"
   },
   "source": [
    "# Optimized Model with Knowledge Distillation"
   ]
  },
  {
   "cell_type": "code",
   "execution_count": null,
   "metadata": {
    "colab": {
     "base_uri": "https://localhost:8080/"
    },
    "id": "uAu3DrpuZAG0",
    "outputId": "bb8d18db-5f92-4817-ffad-06b366e99974"
   },
   "outputs": [],
   "source": [
    "# Define student model (simpler architecture)\n",
    "# def create_student_model():\n",
    "#     model = models.Sequential([\n",
    "#         layers.Conv2D(16, (3, 3), activation='relu', input_shape=(28, 28, 1)),\n",
    "#         layers.MaxPooling2D((2, 2)),\n",
    "#         layers.Flatten(),\n",
    "#         layers.Dense(10, activation='softmax')\n",
    "#     ])\n",
    "#     return model\n",
    "\n",
    "# Custom loss function for Knowledge Distillation\n",
    "def distillation_loss(y_true, y_pred, teacher_logits, temperature=5.0, alpha=0.5):\n",
    "    student_loss = tf.keras.losses.categorical_crossentropy(y_true, y_pred)\n",
    "    distillation_loss = tf.keras.losses.KLDivergence()(\n",
    "        tf.nn.softmax(teacher_logits / temperature),\n",
    "        tf.nn.softmax(y_pred / temperature)\n",
    "    )\n",
    "    return alpha * student_loss + (1 - alpha) * distillation_loss\n",
    "\n",
    "# Train student model using knowledge distillation\n",
    "# student_model = create_student_model()\n",
    "# student_model.compile(optimizer='adam', loss='categorical_crossentropy', metrics=['accuracy'])\n",
    "student_model = model\n",
    "\n",
    "# Train student model with teacher model's logits\n",
    "def train_student_model(student_model, teacher_model, X_train, y_train):\n",
    "    teacher_logits = teacher_model.predict(X_train)\n",
    "\n",
    "    # Custom training loop\n",
    "    for epoch in range(10):\n",
    "        print(f\"Epoch {epoch + 1}/10\")\n",
    "        for i in range(0, len(X_train), 32):\n",
    "            X_batch = X_train[i:i+32]\n",
    "            y_batch = y_train[i:i+32]\n",
    "            with tf.GradientTape() as tape:\n",
    "                y_pred = student_model(X_batch, training=True)\n",
    "                loss = distillation_loss(y_batch, y_pred, teacher_logits[i:i+32])\n",
    "            grads = tape.gradient(loss, student_model.trainable_variables)\n",
    "            student_model.optimizer.apply_gradients(zip(grads, student_model.trainable_variables))\n",
    "\n",
    "# Train the student model\n",
    "train_student_model(student_model, final_model, X_train, Y_train)"
   ]
  },
  {
   "cell_type": "code",
   "execution_count": null,
   "metadata": {
    "colab": {
     "base_uri": "https://localhost:8080/"
    },
    "id": "_VJJWrMkTI3I",
    "outputId": "4f7afe7a-34c2-445d-8a04-7c667d49a209"
   },
   "outputs": [],
   "source": [
    "# Evaluate student model\n",
    "student_loss, student_accuracy = student_model.evaluate(X_test, Y_test)\n",
    "print(f\"Student Model Accuracy: {student_accuracy}, Loss: {student_loss}\")"
   ]
  },
  {
   "cell_type": "code",
   "execution_count": null,
   "metadata": {
    "colab": {
     "base_uri": "https://localhost:8080/"
    },
    "id": "XNVOGzHFJGAF",
    "outputId": "74e11e04-b915-4687-9195-ea53908c16ac"
   },
   "outputs": [],
   "source": [
    "# model_save_path = 'cnn_model.h5'\n",
    "model_save_path = 'student_model_2.keras'\n",
    "student_model.save(model_save_path)\n",
    "\n",
    "# Get the size of the model in bytes\n",
    "model_size = os.path.getsize(model_save_path)\n",
    "print(f\"Model size: {model_size / 1024:.2f} KB\")"
   ]
  }
 ],
 "metadata": {
  "colab": {
   "provenance": []
  },
  "kaggle": {
   "accelerator": "none",
   "dataSources": [
    {
     "datasetId": 42853,
     "sourceId": 76002,
     "sourceType": "datasetVersion"
    }
   ],
   "dockerImageVersionId": 30786,
   "isGpuEnabled": false,
   "isInternetEnabled": true,
   "language": "python",
   "sourceType": "notebook"
  },
  "kernelspec": {
   "display_name": "digit-recognition",
   "language": "python",
   "name": "digit-recognition"
  },
  "language_info": {
   "codemirror_mode": {
    "name": "ipython",
    "version": 3
   },
   "file_extension": ".py",
   "mimetype": "text/x-python",
   "name": "python",
   "nbconvert_exporter": "python",
   "pygments_lexer": "ipython3",
   "version": "3.10.13"
  }
 },
 "nbformat": 4,
 "nbformat_minor": 4
}
