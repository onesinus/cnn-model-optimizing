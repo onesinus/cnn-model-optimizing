{
 "cells": [
  {
   "cell_type": "code",
   "execution_count": 31,
   "id": "5697d3f6",
   "metadata": {
    "_cell_guid": "b1076dfc-b9ad-4769-8c92-a6c4dae69d19",
    "_uuid": "8f2839f25d086af736a60e9eeb907d3b93b6e0e5",
    "papermill": {
     "duration": 0.082792,
     "end_time": "2024-11-02T10:28:18.924728",
     "exception": false,
     "start_time": "2024-11-02T10:28:18.841936",
     "status": "completed"
    },
    "tags": []
   },
   "outputs": [],
   "source": [
    "import numpy as np # linear algebra\n",
    "import pandas as pd # data processing, CSV file I/O (e.g. pd.read_csv)\n",
    "import os"
   ]
  },
  {
   "cell_type": "code",
   "execution_count": 32,
   "id": "bb961dea",
   "metadata": {
    "papermill": {
     "duration": 6.504106,
     "end_time": "2024-11-02T10:28:25.493341",
     "exception": false,
     "start_time": "2024-11-02T10:28:18.989235",
     "status": "completed"
    },
    "tags": []
   },
   "outputs": [],
   "source": [
    "import matplotlib.pyplot as plt\n",
    "import seaborn as sns\n",
    "import tensorflow as tf\n",
    "from tensorflow import keras\n",
    "from pathlib import Path\n",
    "from sklearn.preprocessing import LabelEncoder\n",
    "import PIL\n",
    "import cv2"
   ]
  },
  {
   "cell_type": "code",
   "execution_count": 33,
   "id": "e69107f7",
   "metadata": {
    "papermill": {
     "duration": 0.071027,
     "end_time": "2024-11-02T10:28:25.630228",
     "exception": false,
     "start_time": "2024-11-02T10:28:25.559201",
     "status": "completed"
    },
    "tags": []
   },
   "outputs": [],
   "source": [
    "image_dir = Path('E:\\Lian\\S2\\Datasets\\Braille Dataset\\Braille Dataset')"
   ]
  },
  {
   "cell_type": "code",
   "execution_count": 34,
   "id": "4e3ea80b",
   "metadata": {
    "papermill": {
     "duration": 0.599507,
     "end_time": "2024-11-02T10:28:26.292517",
     "exception": false,
     "start_time": "2024-11-02T10:28:25.693010",
     "status": "completed"
    },
    "tags": []
   },
   "outputs": [],
   "source": [
    "dir_list = list(image_dir.glob('*.jpg'))"
   ]
  },
  {
   "cell_type": "code",
   "execution_count": 35,
   "id": "bc2aab09",
   "metadata": {
    "papermill": {
     "duration": 0.079653,
     "end_time": "2024-11-02T10:28:26.436171",
     "exception": false,
     "start_time": "2024-11-02T10:28:26.356518",
     "status": "completed"
    },
    "tags": []
   },
   "outputs": [
    {
     "data": {
      "text/plain": [
       "1560"
      ]
     },
     "execution_count": 35,
     "metadata": {},
     "output_type": "execute_result"
    }
   ],
   "source": [
    "image_count = len(dir_list)\n",
    "image_count"
   ]
  },
  {
   "cell_type": "code",
   "execution_count": 36,
   "id": "cb444fa0",
   "metadata": {
    "papermill": {
     "duration": 0.078138,
     "end_time": "2024-11-02T10:28:26.579659",
     "exception": false,
     "start_time": "2024-11-02T10:28:26.501521",
     "status": "completed"
    },
    "tags": []
   },
   "outputs": [],
   "source": [
    "name_list = []\n",
    "for i in dir_list:\n",
    "    name_list.append(os.path.basename(i)[0])"
   ]
  },
  {
   "cell_type": "code",
   "execution_count": 37,
   "id": "dc85543b",
   "metadata": {
    "papermill": {
     "duration": 11.850213,
     "end_time": "2024-11-02T10:28:38.493964",
     "exception": false,
     "start_time": "2024-11-02T10:28:26.643751",
     "status": "completed"
    },
    "tags": []
   },
   "outputs": [],
   "source": [
    "#opens images and puts into a list\n",
    "images = []\n",
    "for dir in dir_list:\n",
    "    I = cv2.imread(str(dir))\n",
    "    images.append(I)"
   ]
  },
  {
   "cell_type": "code",
   "execution_count": 38,
   "id": "5fb78a94",
   "metadata": {
    "papermill": {
     "duration": 0.076266,
     "end_time": "2024-11-02T10:28:38.635405",
     "exception": false,
     "start_time": "2024-11-02T10:28:38.559139",
     "status": "completed"
    },
    "tags": []
   },
   "outputs": [],
   "source": [
    "#turn both lists in numpy arrays\n",
    "images_list = np.array(images)\n",
    "name_list = np.array(name_list).T #transpose - convert columns to rows"
   ]
  },
  {
   "cell_type": "code",
   "execution_count": 39,
   "id": "21611a71",
   "metadata": {
    "papermill": {
     "duration": 0.092447,
     "end_time": "2024-11-02T10:28:38.791156",
     "exception": false,
     "start_time": "2024-11-02T10:28:38.698709",
     "status": "completed"
    },
    "tags": []
   },
   "outputs": [
    {
     "name": "stdout",
     "output_type": "stream",
     "text": [
      "[[[0.76078431 0.76078431 0.76078431]\n",
      "  [0.8        0.8        0.8       ]\n",
      "  [0.80784314 0.80784314 0.80784314]\n",
      "  ...\n",
      "  [0.76862745 0.76862745 0.76862745]\n",
      "  [0.76862745 0.76862745 0.76862745]\n",
      "  [0.76862745 0.76862745 0.76862745]]\n",
      "\n",
      " [[0.75686275 0.75686275 0.75686275]\n",
      "  [0.69411765 0.69411765 0.69411765]\n",
      "  [0.7372549  0.7372549  0.7372549 ]\n",
      "  ...\n",
      "  [0.76862745 0.76862745 0.76862745]\n",
      "  [0.76862745 0.76862745 0.76862745]\n",
      "  [0.76862745 0.76862745 0.76862745]]\n",
      "\n",
      " [[0.78039216 0.78039216 0.78039216]\n",
      "  [0.79607843 0.79607843 0.79607843]\n",
      "  [0.76470588 0.76470588 0.76470588]\n",
      "  ...\n",
      "  [0.76862745 0.76862745 0.76862745]\n",
      "  [0.76862745 0.76862745 0.76862745]\n",
      "  [0.76862745 0.76862745 0.76862745]]\n",
      "\n",
      " ...\n",
      "\n",
      " [[0.76862745 0.76862745 0.76862745]\n",
      "  [0.77254902 0.77254902 0.77254902]\n",
      "  [0.76470588 0.76470588 0.76470588]\n",
      "  ...\n",
      "  [0.76862745 0.76862745 0.76862745]\n",
      "  [0.76862745 0.76862745 0.76862745]\n",
      "  [0.76862745 0.76862745 0.76862745]]\n",
      "\n",
      " [[0.77254902 0.77254902 0.77254902]\n",
      "  [0.77647059 0.77647059 0.77647059]\n",
      "  [0.77647059 0.77647059 0.77647059]\n",
      "  ...\n",
      "  [0.76862745 0.76862745 0.76862745]\n",
      "  [0.76862745 0.76862745 0.76862745]\n",
      "  [0.76862745 0.76862745 0.76862745]]\n",
      "\n",
      " [[0.76078431 0.76078431 0.76078431]\n",
      "  [0.76862745 0.76862745 0.76862745]\n",
      "  [0.77254902 0.77254902 0.77254902]\n",
      "  ...\n",
      "  [0.76862745 0.76862745 0.76862745]\n",
      "  [0.76862745 0.76862745 0.76862745]\n",
      "  [0.76862745 0.76862745 0.76862745]]]\n"
     ]
    }
   ],
   "source": [
    "#encodes name_list and normalizes image_list\n",
    "le = LabelEncoder()\n",
    "name_list = le.fit_transform(name_list)\n",
    "\n",
    "#covert image to 0 to 255 (pixel information)\n",
    "images_list = images_list / 255.0 \n",
    "print(images_list[0])"
   ]
  },
  {
   "cell_type": "code",
   "execution_count": 40,
   "id": "c0ce312b",
   "metadata": {
    "papermill": {
     "duration": 0.269124,
     "end_time": "2024-11-02T10:28:39.124411",
     "exception": false,
     "start_time": "2024-11-02T10:28:38.855287",
     "status": "completed"
    },
    "tags": []
   },
   "outputs": [
    {
     "data": {
      "text/plain": [
       "<matplotlib.image.AxesImage at 0x1f097619a50>"
      ]
     },
     "execution_count": 40,
     "metadata": {},
     "output_type": "execute_result"
    },
    {
     "data": {
      "image/png": "[encoded data removed]",
      "text/plain": [
       "<Figure size 640x480 with 1 Axes>"
      ]
     },
     "metadata": {},
     "output_type": "display_data"
    }
   ],
   "source": [
    "plt.imshow(images_list[1])"
   ]
  },
  {
   "cell_type": "code",
   "execution_count": 41,
   "id": "7658b01e",
   "metadata": {
    "papermill": {
     "duration": 0.125723,
     "end_time": "2024-11-02T10:28:39.315094",
     "exception": false,
     "start_time": "2024-11-02T10:28:39.189371",
     "status": "completed"
    },
    "tags": []
   },
   "outputs": [],
   "source": [
    "from sklearn.model_selection import train_test_split"
   ]
  },
  {
   "cell_type": "code",
   "execution_count": 42,
   "id": "4c7999eb",
   "metadata": {
    "papermill": {
     "duration": 0.090876,
     "end_time": "2024-11-02T10:28:39.473006",
     "exception": false,
     "start_time": "2024-11-02T10:28:39.382130",
     "status": "completed"
    },
    "tags": []
   },
   "outputs": [],
   "source": [
    "X_train, X_test, y_train, y_test = train_test_split(images_list, name_list, test_size=0.2, random_state=42)\n",
    "X_train = np.expand_dims(X_train, axis=-1) / 255.0\n",
    "X_test = np.expand_dims(X_test, axis=-1) / 255.0"
   ]
  },
  {
   "cell_type": "markdown",
   "id": "418e228e",
   "metadata": {
    "papermill": {
     "duration": 0.064469,
     "end_time": "2024-11-02T10:28:39.602313",
     "exception": false,
     "start_time": "2024-11-02T10:28:39.537844",
     "status": "completed"
    },
    "tags": []
   },
   "source": [
    "# Creating model: Trial 1: Adam Optimizer"
   ]
  },
  {
   "cell_type": "code",
   "execution_count": 43,
   "id": "68f4cf12",
   "metadata": {
    "papermill": {
     "duration": 1.204679,
     "end_time": "2024-11-02T10:28:40.871468",
     "exception": false,
     "start_time": "2024-11-02T10:28:39.666789",
     "status": "completed"
    },
    "tags": []
   },
   "outputs": [],
   "source": [
    "import tensorflow as tf\n",
    "from tensorflow.keras import layers, models\n",
    "\n",
    "# Define the GhostNet building blocks\n",
    "def ghost_module(x, out_channels, ratio=2, dw_kernel_size=3, s=1):\n",
    "    init_channels = int(np.ceil(out_channels / ratio))\n",
    "    new_channels = init_channels * (ratio - 1)\n",
    "    \n",
    "    # Primary convolution\n",
    "    primary_conv = layers.Conv2D(init_channels, kernel_size=1, strides=s, padding='same')(x)\n",
    "    primary_conv = layers.BatchNormalization()(primary_conv)\n",
    "    primary_conv = layers.ReLU()(primary_conv)\n",
    "    \n",
    "    # Depthwise convolution\n",
    "    depthwise_conv = layers.DepthwiseConv2D(kernel_size=dw_kernel_size, strides=s, padding='same')(primary_conv)\n",
    "    depthwise_conv = layers.BatchNormalization()(depthwise_conv)\n",
    "    depthwise_conv = layers.ReLU()(depthwise_conv)\n",
    "    \n",
    "    # Ghost feature maps (pointwise conv to generate extra features)\n",
    "    ghost_conv = layers.Conv2D(new_channels, kernel_size=1, strides=1, padding='same')(depthwise_conv)\n",
    "    ghost_conv = layers.BatchNormalization()(ghost_conv)\n",
    "    ghost_conv = layers.ReLU()(ghost_conv)\n",
    "    \n",
    "    # Concatenate primary and ghost\n",
    "    out = layers.Concatenate()([primary_conv, ghost_conv])\n",
    "    \n",
    "    return out\n",
    "\n",
    "def build_ghostnet(input_shape=(28, 28, 3), num_classes=576):\n",
    "    inputs = layers.Input(shape=input_shape)\n",
    "    \n",
    "    # Initial stem layer\n",
    "    x = layers.Conv2D(16, kernel_size=3, strides=1, padding='same')(inputs)\n",
    "    x = layers.BatchNormalization()(x)\n",
    "    x = layers.ReLU()(x)\n",
    "    \n",
    "    # First ghost block\n",
    "    x = ghost_module(x, out_channels=32)\n",
    "    x = layers.MaxPooling2D(pool_size=2)(x)\n",
    "    \n",
    "    # Second ghost block\n",
    "    x = ghost_module(x, out_channels=64)\n",
    "    x = layers.MaxPooling2D(pool_size=2)(x)\n",
    "    \n",
    "    # Third ghost block\n",
    "    x = ghost_module(x, out_channels=128)\n",
    "    \n",
    "    # Global average pooling and dense layer for classification\n",
    "    x = layers.GlobalAveragePooling2D()(x)\n",
    "    outputs = layers.Dense(num_classes, activation='softmax')(x)\n",
    "    \n",
    "    model = models.Model(inputs, outputs)\n",
    "\n",
    "    return model"
   ]
  },
  {
   "cell_type": "code",
   "execution_count": 44,
   "id": "fda8e082-31ce-4116-87b0-ad03f14c2563",
   "metadata": {},
   "outputs": [
    {
     "name": "stdout",
     "output_type": "stream",
     "text": [
      "Model: \"model_1\"\n",
      "__________________________________________________________________________________________________\n",
      " Layer (type)                   Output Shape         Param #     Connected to                     \n",
      "==================================================================================================\n",
      " input_2 (InputLayer)           [(None, 28, 28, 3)]  0           []                               \n",
      "                                                                                                  \n",
      " conv2d_7 (Conv2D)              (None, 28, 28, 16)   448         ['input_2[0][0]']                \n",
      "                                                                                                  \n",
      " batch_normalization_10 (BatchN  (None, 28, 28, 16)  64          ['conv2d_7[0][0]']               \n",
      " ormalization)                                                                                    \n",
      "                                                                                                  \n",
      " re_lu_10 (ReLU)                (None, 28, 28, 16)   0           ['batch_normalization_10[0][0]'] \n",
      "                                                                                                  \n",
      " conv2d_8 (Conv2D)              (None, 28, 28, 16)   272         ['re_lu_10[0][0]']               \n",
      "                                                                                                  \n",
      " batch_normalization_11 (BatchN  (None, 28, 28, 16)  64          ['conv2d_8[0][0]']               \n",
      " ormalization)                                                                                    \n",
      "                                                                                                  \n",
      " re_lu_11 (ReLU)                (None, 28, 28, 16)   0           ['batch_normalization_11[0][0]'] \n",
      "                                                                                                  \n",
      " depthwise_conv2d_3 (DepthwiseC  (None, 28, 28, 16)  160         ['re_lu_11[0][0]']               \n",
      " onv2D)                                                                                           \n",
      "                                                                                                  \n",
      " batch_normalization_12 (BatchN  (None, 28, 28, 16)  64          ['depthwise_conv2d_3[0][0]']     \n",
      " ormalization)                                                                                    \n",
      "                                                                                                  \n",
      " re_lu_12 (ReLU)                (None, 28, 28, 16)   0           ['batch_normalization_12[0][0]'] \n",
      "                                                                                                  \n",
      " conv2d_9 (Conv2D)              (None, 28, 28, 16)   272         ['re_lu_12[0][0]']               \n",
      "                                                                                                  \n",
      " batch_normalization_13 (BatchN  (None, 28, 28, 16)  64          ['conv2d_9[0][0]']               \n",
      " ormalization)                                                                                    \n",
      "                                                                                                  \n",
      " re_lu_13 (ReLU)                (None, 28, 28, 16)   0           ['batch_normalization_13[0][0]'] \n",
      "                                                                                                  \n",
      " concatenate_3 (Concatenate)    (None, 28, 28, 32)   0           ['re_lu_11[0][0]',               \n",
      "                                                                  're_lu_13[0][0]']               \n",
      "                                                                                                  \n",
      " max_pooling2d_2 (MaxPooling2D)  (None, 14, 14, 32)  0           ['concatenate_3[0][0]']          \n",
      "                                                                                                  \n",
      " conv2d_10 (Conv2D)             (None, 14, 14, 32)   1056        ['max_pooling2d_2[0][0]']        \n",
      "                                                                                                  \n",
      " batch_normalization_14 (BatchN  (None, 14, 14, 32)  128         ['conv2d_10[0][0]']              \n",
      " ormalization)                                                                                    \n",
      "                                                                                                  \n",
      " re_lu_14 (ReLU)                (None, 14, 14, 32)   0           ['batch_normalization_14[0][0]'] \n",
      "                                                                                                  \n",
      " depthwise_conv2d_4 (DepthwiseC  (None, 14, 14, 32)  320         ['re_lu_14[0][0]']               \n",
      " onv2D)                                                                                           \n",
      "                                                                                                  \n",
      " batch_normalization_15 (BatchN  (None, 14, 14, 32)  128         ['depthwise_conv2d_4[0][0]']     \n",
      " ormalization)                                                                                    \n",
      "                                                                                                  \n",
      " re_lu_15 (ReLU)                (None, 14, 14, 32)   0           ['batch_normalization_15[0][0]'] \n",
      "                                                                                                  \n",
      " conv2d_11 (Conv2D)             (None, 14, 14, 32)   1056        ['re_lu_15[0][0]']               \n",
      "                                                                                                  \n",
      " batch_normalization_16 (BatchN  (None, 14, 14, 32)  128         ['conv2d_11[0][0]']              \n",
      " ormalization)                                                                                    \n",
      "                                                                                                  \n",
      " re_lu_16 (ReLU)                (None, 14, 14, 32)   0           ['batch_normalization_16[0][0]'] \n",
      "                                                                                                  \n",
      " concatenate_4 (Concatenate)    (None, 14, 14, 64)   0           ['re_lu_14[0][0]',               \n",
      "                                                                  're_lu_16[0][0]']               \n",
      "                                                                                                  \n",
      " max_pooling2d_3 (MaxPooling2D)  (None, 7, 7, 64)    0           ['concatenate_4[0][0]']          \n",
      "                                                                                                  \n",
      " conv2d_12 (Conv2D)             (None, 7, 7, 64)     4160        ['max_pooling2d_3[0][0]']        \n",
      "                                                                                                  \n",
      " batch_normalization_17 (BatchN  (None, 7, 7, 64)    256         ['conv2d_12[0][0]']              \n",
      " ormalization)                                                                                    \n",
      "                                                                                                  \n",
      " re_lu_17 (ReLU)                (None, 7, 7, 64)     0           ['batch_normalization_17[0][0]'] \n",
      "                                                                                                  \n",
      " depthwise_conv2d_5 (DepthwiseC  (None, 7, 7, 64)    640         ['re_lu_17[0][0]']               \n",
      " onv2D)                                                                                           \n",
      "                                                                                                  \n",
      " batch_normalization_18 (BatchN  (None, 7, 7, 64)    256         ['depthwise_conv2d_5[0][0]']     \n",
      " ormalization)                                                                                    \n",
      "                                                                                                  \n",
      " re_lu_18 (ReLU)                (None, 7, 7, 64)     0           ['batch_normalization_18[0][0]'] \n",
      "                                                                                                  \n",
      " conv2d_13 (Conv2D)             (None, 7, 7, 64)     4160        ['re_lu_18[0][0]']               \n",
      "                                                                                                  \n",
      " batch_normalization_19 (BatchN  (None, 7, 7, 64)    256         ['conv2d_13[0][0]']              \n",
      " ormalization)                                                                                    \n",
      "                                                                                                  \n",
      " re_lu_19 (ReLU)                (None, 7, 7, 64)     0           ['batch_normalization_19[0][0]'] \n",
      "                                                                                                  \n",
      " concatenate_5 (Concatenate)    (None, 7, 7, 128)    0           ['re_lu_17[0][0]',               \n",
      "                                                                  're_lu_19[0][0]']               \n",
      "                                                                                                  \n",
      " global_average_pooling2d_1 (Gl  (None, 128)         0           ['concatenate_5[0][0]']          \n",
      " obalAveragePooling2D)                                                                            \n",
      "                                                                                                  \n",
      " dense_1 (Dense)                (None, 576)          74304       ['global_average_pooling2d_1[0][0\n",
      "                                                                 ]']                              \n",
      "                                                                                                  \n",
      "==================================================================================================\n",
      "Total params: 88,256\n",
      "Trainable params: 87,552\n",
      "Non-trainable params: 704\n",
      "__________________________________________________________________________________________________\n"
     ]
    }
   ],
   "source": [
    "# Build the GhostNet model\n",
    "model = build_ghostnet()\n",
    "model.summary()  "
   ]
  },
  {
   "cell_type": "code",
   "execution_count": 45,
   "id": "8a441ecd",
   "metadata": {
    "papermill": {
     "duration": 0.092347,
     "end_time": "2024-11-02T10:28:41.160212",
     "exception": false,
     "start_time": "2024-11-02T10:28:41.067865",
     "status": "completed"
    },
    "tags": []
   },
   "outputs": [],
   "source": [
    "model.compile(optimizer=\"Adam\", loss=\"SparseCategoricalCrossentropy\", metrics=[\"sparse_categorical_accuracy\"])"
   ]
  },
  {
   "cell_type": "code",
   "execution_count": 46,
   "id": "08eb3f3e",
   "metadata": {
    "papermill": {
     "duration": 74.589408,
     "end_time": "2024-11-02T10:29:56.086132",
     "exception": false,
     "start_time": "2024-11-02T10:28:41.496724",
     "status": "completed"
    },
    "tags": []
   },
   "outputs": [
    {
     "name": "stdout",
     "output_type": "stream",
     "text": [
      "Epoch 1/100\n",
      "28/28 [==============================] - 4s 100ms/step - loss: 5.3338 - sparse_categorical_accuracy: 0.0447 - val_loss: 5.9140 - val_sparse_categorical_accuracy: 0.0453\n",
      "Epoch 2/100\n",
      "28/28 [==============================] - 1s 46ms/step - loss: 3.7020 - sparse_categorical_accuracy: 0.0871 - val_loss: 4.8516 - val_sparse_categorical_accuracy: 0.0320\n",
      "Epoch 3/100\n",
      "28/28 [==============================] - 1s 47ms/step - loss: 3.2356 - sparse_categorical_accuracy: 0.1501 - val_loss: 4.0737 - val_sparse_categorical_accuracy: 0.0427\n",
      "Epoch 4/100\n",
      "28/28 [==============================] - 1s 49ms/step - loss: 3.0450 - sparse_categorical_accuracy: 0.2085 - val_loss: 3.7309 - val_sparse_categorical_accuracy: 0.0427\n",
      "Epoch 5/100\n",
      "28/28 [==============================] - 1s 44ms/step - loss: 2.8792 - sparse_categorical_accuracy: 0.2188 - val_loss: 3.7346 - val_sparse_categorical_accuracy: 0.0427\n",
      "Epoch 6/100\n",
      "28/28 [==============================] - 1s 43ms/step - loss: 2.7034 - sparse_categorical_accuracy: 0.2978 - val_loss: 4.0787 - val_sparse_categorical_accuracy: 0.0427\n",
      "Epoch 7/100\n",
      "28/28 [==============================] - 1s 43ms/step - loss: 2.5351 - sparse_categorical_accuracy: 0.3906 - val_loss: 4.6014 - val_sparse_categorical_accuracy: 0.0427\n",
      "Epoch 8/100\n",
      "28/28 [==============================] - 1s 44ms/step - loss: 2.3818 - sparse_categorical_accuracy: 0.4009 - val_loss: 5.3135 - val_sparse_categorical_accuracy: 0.0427\n",
      "Epoch 9/100\n",
      "28/28 [==============================] - 1s 47ms/step - loss: 2.2137 - sparse_categorical_accuracy: 0.5166 - val_loss: 6.0548 - val_sparse_categorical_accuracy: 0.0427\n",
      "Epoch 10/100\n",
      "28/28 [==============================] - 1s 43ms/step - loss: 2.0763 - sparse_categorical_accuracy: 0.5613 - val_loss: 6.8189 - val_sparse_categorical_accuracy: 0.0427\n",
      "Epoch 11/100\n",
      "28/28 [==============================] - 1s 37ms/step - loss: 1.9030 - sparse_categorical_accuracy: 0.6403 - val_loss: 7.6085 - val_sparse_categorical_accuracy: 0.0427\n",
      "Epoch 12/100\n",
      "28/28 [==============================] - 2s 61ms/step - loss: 1.7421 - sparse_categorical_accuracy: 0.6861 - val_loss: 8.5693 - val_sparse_categorical_accuracy: 0.0427\n",
      "Epoch 13/100\n",
      "28/28 [==============================] - 1s 44ms/step - loss: 1.6080 - sparse_categorical_accuracy: 0.6930 - val_loss: 8.7155 - val_sparse_categorical_accuracy: 0.0427\n",
      "Epoch 14/100\n",
      "28/28 [==============================] - 2s 68ms/step - loss: 1.4599 - sparse_categorical_accuracy: 0.7583 - val_loss: 8.9371 - val_sparse_categorical_accuracy: 0.0427\n",
      "Epoch 15/100\n",
      "28/28 [==============================] - 1s 43ms/step - loss: 1.3467 - sparse_categorical_accuracy: 0.7721 - val_loss: 9.3180 - val_sparse_categorical_accuracy: 0.0427\n",
      "Epoch 16/100\n",
      "28/28 [==============================] - 1s 44ms/step - loss: 1.2479 - sparse_categorical_accuracy: 0.7961 - val_loss: 9.7131 - val_sparse_categorical_accuracy: 0.0427\n",
      "Epoch 17/100\n",
      "28/28 [==============================] - 1s 43ms/step - loss: 1.1605 - sparse_categorical_accuracy: 0.8121 - val_loss: 9.9164 - val_sparse_categorical_accuracy: 0.0427\n",
      "Epoch 18/100\n",
      "28/28 [==============================] - 1s 43ms/step - loss: 1.0426 - sparse_categorical_accuracy: 0.8351 - val_loss: 10.2172 - val_sparse_categorical_accuracy: 0.0453\n",
      "Epoch 19/100\n",
      "28/28 [==============================] - 1s 44ms/step - loss: 0.9490 - sparse_categorical_accuracy: 0.8499 - val_loss: 18.3176 - val_sparse_categorical_accuracy: 0.0667\n",
      "Epoch 20/100\n",
      "28/28 [==============================] - 1s 45ms/step - loss: 0.8728 - sparse_categorical_accuracy: 0.8832 - val_loss: 12.6868 - val_sparse_categorical_accuracy: 0.0427\n",
      "Epoch 21/100\n",
      "28/28 [==============================] - 1s 46ms/step - loss: 0.8168 - sparse_categorical_accuracy: 0.8706 - val_loss: 16.7830 - val_sparse_categorical_accuracy: 0.0427\n",
      "Epoch 22/100\n",
      "28/28 [==============================] - 7s 248ms/step - loss: 0.7454 - sparse_categorical_accuracy: 0.8935 - val_loss: 17.5270 - val_sparse_categorical_accuracy: 0.0427\n",
      "Epoch 23/100\n",
      "28/28 [==============================] - 16s 578ms/step - loss: 0.6647 - sparse_categorical_accuracy: 0.9164 - val_loss: 38.8382 - val_sparse_categorical_accuracy: 0.0427\n",
      "Epoch 24/100\n",
      "28/28 [==============================] - 2s 59ms/step - loss: 0.6486 - sparse_categorical_accuracy: 0.9084 - val_loss: 37.2337 - val_sparse_categorical_accuracy: 0.0427\n"
     ]
    }
   ],
   "source": [
    "from keras.callbacks import EarlyStopping\n",
    "\n",
    "es1 = EarlyStopping(patience=20, monitor=\"val_sparse_categorical_accuracy\", mode=\"auto\")\n",
    "es2 = EarlyStopping(patience=20, monitor=\"val_loss\", mode=\"auto\")\n",
    "\n",
    "history = model.fit(\n",
    "    x=X_train,\n",
    "    y=y_train,\n",
    "    epochs=100,\n",
    "    validation_split=0.3,\n",
    "    callbacks=[es1, es2]\n",
    ")"
   ]
  },
  {
   "cell_type": "code",
   "execution_count": 47,
   "id": "0d33d4e9",
   "metadata": {
    "papermill": {
     "duration": 0.445897,
     "end_time": "2024-11-02T10:29:57.854397",
     "exception": false,
     "start_time": "2024-11-02T10:29:57.408500",
     "status": "completed"
    },
    "tags": []
   },
   "outputs": [],
   "source": [
    "time = np.arange(1, len(history.history['loss'])+1)"
   ]
  },
  {
   "cell_type": "code",
   "execution_count": 48,
   "id": "a1683301",
   "metadata": {
    "papermill": {
     "duration": 7.167612,
     "end_time": "2024-11-02T10:30:05.460427",
     "exception": false,
     "start_time": "2024-11-02T10:29:58.292815",
     "status": "completed"
    },
    "tags": []
   },
   "outputs": [
    {
     "data": {
      "image/png": "[encoded data removed]",
      "text/plain": [
       "<Figure size 640x480 with 1 Axes>"
      ]
     },
     "metadata": {},
     "output_type": "display_data"
    }
   ],
   "source": [
    "sns.lineplot(data=history.history, x=time, y='loss')\n",
    "sns.lineplot(data=history.history, x=time, y='val_loss')\n",
    "plt.title('Loss fitting history')\n",
    "plt.legend(labels=['Loss', 'Validation loss'])\n",
    "plt.show()"
   ]
  },
  {
   "cell_type": "code",
   "execution_count": 49,
   "id": "ffc8932b",
   "metadata": {
    "papermill": {
     "duration": 0.736793,
     "end_time": "2024-11-02T10:30:06.633830",
     "exception": false,
     "start_time": "2024-11-02T10:30:05.897037",
     "status": "completed"
    },
    "tags": []
   },
   "outputs": [
    {
     "data": {
      "image/png": "[encoded data removed]",
      "text/plain": [
       "<Figure size 640x480 with 1 Axes>"
      ]
     },
     "metadata": {},
     "output_type": "display_data"
    }
   ],
   "source": [
    "sns.lineplot(data=history.history, x=time, y='val_sparse_categorical_accuracy')\n",
    "sns.lineplot(data=history.history, x=time, y='sparse_categorical_accuracy')\n",
    "plt.title('Accuracy fitting history')\n",
    "plt.legend(labels=['Accuracy', 'Valuation accuracy'])\n",
    "plt.show()"
   ]
  },
  {
   "cell_type": "code",
   "execution_count": 50,
   "id": "8d3db302",
   "metadata": {
    "papermill": {
     "duration": 1.270398,
     "end_time": "2024-11-02T10:30:08.337725",
     "exception": false,
     "start_time": "2024-11-02T10:30:07.067327",
     "status": "completed"
    },
    "tags": []
   },
   "outputs": [
    {
     "name": "stdout",
     "output_type": "stream",
     "text": [
      "Adam Optimizer\n",
      "10/10 [==============================] - 0s 14ms/step - loss: 36.4600 - sparse_categorical_accuracy: 0.0449\n"
     ]
    },
    {
     "data": {
      "text/plain": [
       "[36.460044860839844, 0.044871795922517776]"
      ]
     },
     "execution_count": 50,
     "metadata": {},
     "output_type": "execute_result"
    }
   ],
   "source": [
    "print(\"Adam Optimizer\")\n",
    "model.evaluate(X_test, y_test)"
   ]
  },
  {
   "cell_type": "markdown",
   "id": "cd3c2ebd",
   "metadata": {
    "papermill": {
     "duration": 0.44194,
     "end_time": "2024-11-02T10:30:09.234977",
     "exception": false,
     "start_time": "2024-11-02T10:30:08.793037",
     "status": "completed"
    },
    "tags": []
   },
   "source": [
    "# Optimization Model 1"
   ]
  },
  {
   "cell_type": "code",
   "execution_count": 51,
   "id": "73a1969b",
   "metadata": {
    "papermill": {
     "duration": 14.575572,
     "end_time": "2024-11-02T10:30:24.251539",
     "exception": false,
     "start_time": "2024-11-02T10:30:09.675967",
     "status": "completed"
    },
    "tags": []
   },
   "outputs": [
    {
     "name": "stdout",
     "output_type": "stream",
     "text": [
      "Requirement already satisfied: tensorflow-model-optimization in c:\\users\\user\\anaconda3\\envs\\digit-recognition\\lib\\site-packages (0.8.0)\n",
      "Requirement already satisfied: absl-py~=1.2 in c:\\users\\user\\anaconda3\\envs\\digit-recognition\\lib\\site-packages (from tensorflow-model-optimization) (1.4.0)\n",
      "Requirement already satisfied: dm-tree~=0.1.1 in c:\\users\\user\\anaconda3\\envs\\digit-recognition\\lib\\site-packages (from tensorflow-model-optimization) (0.1.8)\n",
      "Requirement already satisfied: numpy~=1.23 in c:\\users\\user\\anaconda3\\envs\\digit-recognition\\lib\\site-packages (from tensorflow-model-optimization) (1.26.4)\n",
      "Requirement already satisfied: six~=1.14 in c:\\users\\user\\anaconda3\\envs\\digit-recognition\\lib\\site-packages (from tensorflow-model-optimization) (1.16.0)\n"
     ]
    }
   ],
   "source": [
    "!pip install --upgrade tensorflow-model-optimization"
   ]
  },
  {
   "cell_type": "code",
   "execution_count": 52,
   "id": "293511f1",
   "metadata": {
    "papermill": {
     "duration": 0.628489,
     "end_time": "2024-11-02T10:30:25.335472",
     "exception": false,
     "start_time": "2024-11-02T10:30:24.706983",
     "status": "completed"
    },
    "tags": []
   },
   "outputs": [],
   "source": [
    "import tensorflow_model_optimization as tfmot"
   ]
  },
  {
   "cell_type": "code",
   "execution_count": 53,
   "id": "d7c1e131",
   "metadata": {
    "papermill": {
     "duration": 0.534481,
     "end_time": "2024-11-02T10:30:26.319081",
     "exception": false,
     "start_time": "2024-11-02T10:30:25.784600",
     "status": "completed"
    },
    "tags": []
   },
   "outputs": [
    {
     "name": "stdout",
     "output_type": "stream",
     "text": [
      "Model size: 1239.41 KB\n"
     ]
    }
   ],
   "source": [
    "original_model = model\n",
    "\n",
    "model_save_path = 'cnn_model1_braille.keras'\n",
    "\n",
    "model.save(model_save_path)\n",
    "\n",
    "\n",
    "# Get the size of the model in bytes\n",
    "\n",
    "model_size = os.path.getsize(model_save_path)\n",
    "\n",
    "print(f\"Model size: {model_size / 1024:.2f} KB\")"
   ]
  },
  {
   "cell_type": "code",
   "execution_count": 54,
   "id": "198f56ed",
   "metadata": {
    "papermill": {
     "duration": 1.701546,
     "end_time": "2024-11-02T10:30:28.470749",
     "exception": false,
     "start_time": "2024-11-02T10:30:26.769203",
     "status": "completed"
    },
    "tags": []
   },
   "outputs": [],
   "source": [
    "import tensorflow as tf\n",
    "from tensorflow.keras import layers, models\n",
    "import numpy as np\n",
    "import tensorflow.keras as keras\n",
    "import time\n",
    "\n",
    "prune_low_magnitude = tfmot.sparsity.keras.prune_low_magnitude\n",
    "\n",
    "callbacks = [\n",
    "  tfmot.sparsity.keras.UpdatePruningStep()\n",
    "]\n",
    "pruning_params = {\n",
    "    'pruning_schedule': tfmot.sparsity.keras.ConstantSparsity(0.1, begin_step=0, frequency=100)\n",
    "}\n",
    "\n",
    "pruned_model = prune_low_magnitude(original_model, **pruning_params)"
   ]
  },
  {
   "cell_type": "code",
   "execution_count": 55,
   "id": "27775aee-a1af-4548-b778-fa91fdf292e5",
   "metadata": {},
   "outputs": [
    {
     "name": "stdout",
     "output_type": "stream",
     "text": [
      "Model: \"model_1\"\n",
      "__________________________________________________________________________________________________\n",
      " Layer (type)                   Output Shape         Param #     Connected to                     \n",
      "==================================================================================================\n",
      " input_2 (InputLayer)           [(None, 28, 28, 3)]  0           []                               \n",
      "                                                                                                  \n",
      " prune_low_magnitude_conv2d_7 (  (None, 28, 28, 16)  882         ['input_2[0][0]']                \n",
      " PruneLowMagnitude)                                                                               \n",
      "                                                                                                  \n",
      " prune_low_magnitude_batch_norm  (None, 28, 28, 16)  65          ['prune_low_magnitude_conv2d_7[0]\n",
      " alization_10 (PruneLowMagnitud                                  [0]']                            \n",
      " e)                                                                                               \n",
      "                                                                                                  \n",
      " prune_low_magnitude_re_lu_10 (  (None, 28, 28, 16)  1           ['prune_low_magnitude_batch_norma\n",
      " PruneLowMagnitude)                                              lization_10[0][0]']              \n",
      "                                                                                                  \n",
      " prune_low_magnitude_conv2d_8 (  (None, 28, 28, 16)  530         ['prune_low_magnitude_re_lu_10[0]\n",
      " PruneLowMagnitude)                                              [0]']                            \n",
      "                                                                                                  \n",
      " prune_low_magnitude_batch_norm  (None, 28, 28, 16)  65          ['prune_low_magnitude_conv2d_8[0]\n",
      " alization_11 (PruneLowMagnitud                                  [0]']                            \n",
      " e)                                                                                               \n",
      "                                                                                                  \n",
      " prune_low_magnitude_re_lu_11 (  (None, 28, 28, 16)  1           ['prune_low_magnitude_batch_norma\n",
      " PruneLowMagnitude)                                              lization_11[0][0]']              \n",
      "                                                                                                  \n",
      " prune_low_magnitude_depthwise_  (None, 28, 28, 16)  161         ['prune_low_magnitude_re_lu_11[0]\n",
      " conv2d_3 (PruneLowMagnitude)                                    [0]']                            \n",
      "                                                                                                  \n",
      " prune_low_magnitude_batch_norm  (None, 28, 28, 16)  65          ['prune_low_magnitude_depthwise_c\n",
      " alization_12 (PruneLowMagnitud                                  onv2d_3[0][0]']                  \n",
      " e)                                                                                               \n",
      "                                                                                                  \n",
      " prune_low_magnitude_re_lu_12 (  (None, 28, 28, 16)  1           ['prune_low_magnitude_batch_norma\n",
      " PruneLowMagnitude)                                              lization_12[0][0]']              \n",
      "                                                                                                  \n",
      " prune_low_magnitude_conv2d_9 (  (None, 28, 28, 16)  530         ['prune_low_magnitude_re_lu_12[0]\n",
      " PruneLowMagnitude)                                              [0]']                            \n",
      "                                                                                                  \n",
      " prune_low_magnitude_batch_norm  (None, 28, 28, 16)  65          ['prune_low_magnitude_conv2d_9[0]\n",
      " alization_13 (PruneLowMagnitud                                  [0]']                            \n",
      " e)                                                                                               \n",
      "                                                                                                  \n",
      " prune_low_magnitude_re_lu_13 (  (None, 28, 28, 16)  1           ['prune_low_magnitude_batch_norma\n",
      " PruneLowMagnitude)                                              lization_13[0][0]']              \n",
      "                                                                                                  \n",
      " prune_low_magnitude_concatenat  (None, 28, 28, 32)  1           ['prune_low_magnitude_re_lu_11[0]\n",
      " e_3 (PruneLowMagnitude)                                         [0]',                            \n",
      "                                                                  'prune_low_magnitude_re_lu_13[0]\n",
      "                                                                 [0]']                            \n",
      "                                                                                                  \n",
      " prune_low_magnitude_max_poolin  (None, 14, 14, 32)  1           ['prune_low_magnitude_concatenate\n",
      " g2d_2 (PruneLowMagnitude)                                       _3[0][0]']                       \n",
      "                                                                                                  \n",
      " prune_low_magnitude_conv2d_10   (None, 14, 14, 32)  2082        ['prune_low_magnitude_max_pooling\n",
      " (PruneLowMagnitude)                                             2d_2[0][0]']                     \n",
      "                                                                                                  \n",
      " prune_low_magnitude_batch_norm  (None, 14, 14, 32)  129         ['prune_low_magnitude_conv2d_10[0\n",
      " alization_14 (PruneLowMagnitud                                  ][0]']                           \n",
      " e)                                                                                               \n",
      "                                                                                                  \n",
      " prune_low_magnitude_re_lu_14 (  (None, 14, 14, 32)  1           ['prune_low_magnitude_batch_norma\n",
      " PruneLowMagnitude)                                              lization_14[0][0]']              \n",
      "                                                                                                  \n",
      " prune_low_magnitude_depthwise_  (None, 14, 14, 32)  321         ['prune_low_magnitude_re_lu_14[0]\n",
      " conv2d_4 (PruneLowMagnitude)                                    [0]']                            \n",
      "                                                                                                  \n",
      " prune_low_magnitude_batch_norm  (None, 14, 14, 32)  129         ['prune_low_magnitude_depthwise_c\n",
      " alization_15 (PruneLowMagnitud                                  onv2d_4[0][0]']                  \n",
      " e)                                                                                               \n",
      "                                                                                                  \n",
      " prune_low_magnitude_re_lu_15 (  (None, 14, 14, 32)  1           ['prune_low_magnitude_batch_norma\n",
      " PruneLowMagnitude)                                              lization_15[0][0]']              \n",
      "                                                                                                  \n",
      " prune_low_magnitude_conv2d_11   (None, 14, 14, 32)  2082        ['prune_low_magnitude_re_lu_15[0]\n",
      " (PruneLowMagnitude)                                             [0]']                            \n",
      "                                                                                                  \n",
      " prune_low_magnitude_batch_norm  (None, 14, 14, 32)  129         ['prune_low_magnitude_conv2d_11[0\n",
      " alization_16 (PruneLowMagnitud                                  ][0]']                           \n",
      " e)                                                                                               \n",
      "                                                                                                  \n",
      " prune_low_magnitude_re_lu_16 (  (None, 14, 14, 32)  1           ['prune_low_magnitude_batch_norma\n",
      " PruneLowMagnitude)                                              lization_16[0][0]']              \n",
      "                                                                                                  \n",
      " prune_low_magnitude_concatenat  (None, 14, 14, 64)  1           ['prune_low_magnitude_re_lu_14[0]\n",
      " e_4 (PruneLowMagnitude)                                         [0]',                            \n",
      "                                                                  'prune_low_magnitude_re_lu_16[0]\n",
      "                                                                 [0]']                            \n",
      "                                                                                                  \n",
      " prune_low_magnitude_max_poolin  (None, 7, 7, 64)    1           ['prune_low_magnitude_concatenate\n",
      " g2d_3 (PruneLowMagnitude)                                       _4[0][0]']                       \n",
      "                                                                                                  \n",
      " prune_low_magnitude_conv2d_12   (None, 7, 7, 64)    8258        ['prune_low_magnitude_max_pooling\n",
      " (PruneLowMagnitude)                                             2d_3[0][0]']                     \n",
      "                                                                                                  \n",
      " prune_low_magnitude_batch_norm  (None, 7, 7, 64)    257         ['prune_low_magnitude_conv2d_12[0\n",
      " alization_17 (PruneLowMagnitud                                  ][0]']                           \n",
      " e)                                                                                               \n",
      "                                                                                                  \n",
      " prune_low_magnitude_re_lu_17 (  (None, 7, 7, 64)    1           ['prune_low_magnitude_batch_norma\n",
      " PruneLowMagnitude)                                              lization_17[0][0]']              \n",
      "                                                                                                  \n",
      " prune_low_magnitude_depthwise_  (None, 7, 7, 64)    641         ['prune_low_magnitude_re_lu_17[0]\n",
      " conv2d_5 (PruneLowMagnitude)                                    [0]']                            \n",
      "                                                                                                  \n",
      " prune_low_magnitude_batch_norm  (None, 7, 7, 64)    257         ['prune_low_magnitude_depthwise_c\n",
      " alization_18 (PruneLowMagnitud                                  onv2d_5[0][0]']                  \n",
      " e)                                                                                               \n",
      "                                                                                                  \n",
      " prune_low_magnitude_re_lu_18 (  (None, 7, 7, 64)    1           ['prune_low_magnitude_batch_norma\n",
      " PruneLowMagnitude)                                              lization_18[0][0]']              \n",
      "                                                                                                  \n",
      " prune_low_magnitude_conv2d_13   (None, 7, 7, 64)    8258        ['prune_low_magnitude_re_lu_18[0]\n",
      " (PruneLowMagnitude)                                             [0]']                            \n",
      "                                                                                                  \n",
      " prune_low_magnitude_batch_norm  (None, 7, 7, 64)    257         ['prune_low_magnitude_conv2d_13[0\n",
      " alization_19 (PruneLowMagnitud                                  ][0]']                           \n",
      " e)                                                                                               \n",
      "                                                                                                  \n",
      " prune_low_magnitude_re_lu_19 (  (None, 7, 7, 64)    1           ['prune_low_magnitude_batch_norma\n",
      " PruneLowMagnitude)                                              lization_19[0][0]']              \n",
      "                                                                                                  \n",
      " prune_low_magnitude_concatenat  (None, 7, 7, 128)   1           ['prune_low_magnitude_re_lu_17[0]\n",
      " e_5 (PruneLowMagnitude)                                         [0]',                            \n",
      "                                                                  'prune_low_magnitude_re_lu_19[0]\n",
      "                                                                 [0]']                            \n",
      "                                                                                                  \n",
      " prune_low_magnitude_global_ave  (None, 128)         1           ['prune_low_magnitude_concatenate\n",
      " rage_pooling2d_1 (PruneLowMagn                                  _5[0][0]']                       \n",
      " itude)                                                                                           \n",
      "                                                                                                  \n",
      " prune_low_magnitude_dense_1 (P  (None, 576)         148034      ['prune_low_magnitude_global_aver\n",
      " runeLowMagnitude)                                               age_pooling2d_1[0][0]']          \n",
      "                                                                                                  \n",
      "==================================================================================================\n",
      "Total params: 173,213\n",
      "Trainable params: 87,552\n",
      "Non-trainable params: 85,661\n",
      "__________________________________________________________________________________________________\n"
     ]
    }
   ],
   "source": [
    "pruned_model.compile(optimizer=\"Adam\", loss=\"SparseCategoricalCrossentropy\", metrics=[\"sparse_categorical_accuracy\"])\n",
    "pruned_model.summary()"
   ]
  },
  {
   "cell_type": "markdown",
   "id": "cae1b48a",
   "metadata": {
    "papermill": {
     "duration": 0.448357,
     "end_time": "2024-11-02T10:30:29.364190",
     "exception": false,
     "start_time": "2024-11-02T10:30:28.915833",
     "status": "completed"
    },
    "tags": []
   },
   "source": [
    "# Pruning"
   ]
  },
  {
   "cell_type": "code",
   "execution_count": 56,
   "id": "03270d19",
   "metadata": {
    "papermill": {
     "duration": 49.045108,
     "end_time": "2024-11-02T10:31:18.856513",
     "exception": false,
     "start_time": "2024-11-02T10:30:29.811405",
     "status": "completed"
    },
    "tags": []
   },
   "outputs": [
    {
     "name": "stdout",
     "output_type": "stream",
     "text": [
      "Epoch 1/100\n",
      "28/28 [==============================] - 15s 70ms/step - loss: 0.6169 - sparse_categorical_accuracy: 0.9141 - val_loss: 70.3043 - val_sparse_categorical_accuracy: 0.0427\n",
      "Epoch 2/100\n",
      "28/28 [==============================] - 1s 41ms/step - loss: 0.5294 - sparse_categorical_accuracy: 0.9381 - val_loss: 63.4734 - val_sparse_categorical_accuracy: 0.0427\n",
      "Epoch 3/100\n",
      "28/28 [==============================] - 1s 46ms/step - loss: 0.4984 - sparse_categorical_accuracy: 0.9450 - val_loss: 123.4303 - val_sparse_categorical_accuracy: 0.0427\n",
      "Epoch 4/100\n",
      "28/28 [==============================] - 1s 42ms/step - loss: 0.4624 - sparse_categorical_accuracy: 0.9496 - val_loss: 111.5885 - val_sparse_categorical_accuracy: 0.0427\n",
      "Epoch 5/100\n",
      "28/28 [==============================] - 1s 48ms/step - loss: 0.4345 - sparse_categorical_accuracy: 0.9496 - val_loss: 77.1872 - val_sparse_categorical_accuracy: 0.0427\n",
      "Epoch 6/100\n",
      "28/28 [==============================] - 1s 40ms/step - loss: 0.3882 - sparse_categorical_accuracy: 0.9553 - val_loss: 46.9708 - val_sparse_categorical_accuracy: 0.0453\n",
      "Epoch 7/100\n",
      "28/28 [==============================] - 1s 40ms/step - loss: 0.3528 - sparse_categorical_accuracy: 0.9656 - val_loss: 37.4862 - val_sparse_categorical_accuracy: 0.0373\n",
      "Epoch 8/100\n",
      "28/28 [==============================] - 1s 42ms/step - loss: 0.3522 - sparse_categorical_accuracy: 0.9656 - val_loss: 63.9694 - val_sparse_categorical_accuracy: 0.0427\n",
      "Epoch 9/100\n",
      "28/28 [==============================] - 1s 41ms/step - loss: 0.3170 - sparse_categorical_accuracy: 0.9759 - val_loss: 160.4761 - val_sparse_categorical_accuracy: 0.0427\n",
      "Epoch 10/100\n",
      "28/28 [==============================] - 1s 40ms/step - loss: 0.3146 - sparse_categorical_accuracy: 0.9737 - val_loss: 54.6939 - val_sparse_categorical_accuracy: 0.0373\n",
      "Epoch 11/100\n",
      "28/28 [==============================] - 1s 40ms/step - loss: 0.2774 - sparse_categorical_accuracy: 0.9737 - val_loss: 117.5103 - val_sparse_categorical_accuracy: 0.0347\n",
      "Epoch 12/100\n",
      "28/28 [==============================] - 1s 40ms/step - loss: 0.2465 - sparse_categorical_accuracy: 0.9817 - val_loss: 157.1958 - val_sparse_categorical_accuracy: 0.0427\n",
      "Epoch 13/100\n",
      "28/28 [==============================] - 1s 48ms/step - loss: 0.2382 - sparse_categorical_accuracy: 0.9805 - val_loss: 166.4560 - val_sparse_categorical_accuracy: 0.0427\n",
      "Epoch 14/100\n",
      "28/28 [==============================] - 1s 45ms/step - loss: 0.2162 - sparse_categorical_accuracy: 0.9863 - val_loss: 25.3970 - val_sparse_categorical_accuracy: 0.0373\n",
      "Epoch 15/100\n",
      "28/28 [==============================] - 1s 48ms/step - loss: 0.2409 - sparse_categorical_accuracy: 0.9771 - val_loss: 117.1597 - val_sparse_categorical_accuracy: 0.0427\n",
      "Epoch 16/100\n",
      "28/28 [==============================] - 1s 51ms/step - loss: 0.2080 - sparse_categorical_accuracy: 0.9828 - val_loss: 50.0628 - val_sparse_categorical_accuracy: 0.0427\n",
      "Epoch 17/100\n",
      "28/28 [==============================] - 1s 41ms/step - loss: 0.1988 - sparse_categorical_accuracy: 0.9840 - val_loss: 23.1079 - val_sparse_categorical_accuracy: 0.0613\n",
      "Epoch 18/100\n",
      "28/28 [==============================] - 1s 41ms/step - loss: 0.2254 - sparse_categorical_accuracy: 0.9771 - val_loss: 40.5794 - val_sparse_categorical_accuracy: 0.0320\n",
      "Epoch 19/100\n",
      "28/28 [==============================] - 1s 40ms/step - loss: 0.2033 - sparse_categorical_accuracy: 0.9840 - val_loss: 61.7337 - val_sparse_categorical_accuracy: 0.0667\n",
      "Epoch 20/100\n",
      "28/28 [==============================] - 1s 41ms/step - loss: 0.1586 - sparse_categorical_accuracy: 0.9920 - val_loss: 34.4688 - val_sparse_categorical_accuracy: 0.0293\n",
      "Epoch 21/100\n",
      "28/28 [==============================] - 1s 40ms/step - loss: 0.1297 - sparse_categorical_accuracy: 0.9954 - val_loss: 33.9262 - val_sparse_categorical_accuracy: 0.0453\n",
      "Epoch 22/100\n",
      "28/28 [==============================] - 1s 49ms/step - loss: 0.1425 - sparse_categorical_accuracy: 0.9920 - val_loss: 26.1329 - val_sparse_categorical_accuracy: 0.0480\n",
      "Epoch 23/100\n",
      "28/28 [==============================] - 1s 42ms/step - loss: 0.1294 - sparse_categorical_accuracy: 0.9943 - val_loss: 55.3901 - val_sparse_categorical_accuracy: 0.0400\n",
      "Epoch 24/100\n",
      "28/28 [==============================] - 1s 41ms/step - loss: 0.1310 - sparse_categorical_accuracy: 0.9943 - val_loss: 59.3583 - val_sparse_categorical_accuracy: 0.0320\n",
      "Epoch 25/100\n",
      "28/28 [==============================] - 1s 52ms/step - loss: 0.1004 - sparse_categorical_accuracy: 0.9977 - val_loss: 35.3302 - val_sparse_categorical_accuracy: 0.0453\n",
      "Epoch 26/100\n",
      "28/28 [==============================] - 2s 63ms/step - loss: 0.0991 - sparse_categorical_accuracy: 0.9966 - val_loss: 86.7591 - val_sparse_categorical_accuracy: 0.0480\n",
      "Epoch 27/100\n",
      "28/28 [==============================] - 2s 72ms/step - loss: 0.0921 - sparse_categorical_accuracy: 0.9966 - val_loss: 34.5696 - val_sparse_categorical_accuracy: 0.0453\n",
      "Epoch 28/100\n",
      "28/28 [==============================] - 1s 49ms/step - loss: 0.0874 - sparse_categorical_accuracy: 0.9977 - val_loss: 76.3547 - val_sparse_categorical_accuracy: 0.0373\n",
      "Epoch 29/100\n",
      "28/28 [==============================] - 1s 39ms/step - loss: 0.0909 - sparse_categorical_accuracy: 0.9989 - val_loss: 63.1205 - val_sparse_categorical_accuracy: 0.0293\n",
      "Epoch 30/100\n",
      "28/28 [==============================] - 1s 40ms/step - loss: 0.0867 - sparse_categorical_accuracy: 0.9977 - val_loss: 54.3348 - val_sparse_categorical_accuracy: 0.0320\n",
      "Epoch 31/100\n",
      "28/28 [==============================] - 1s 39ms/step - loss: 0.0823 - sparse_categorical_accuracy: 0.9966 - val_loss: 42.1707 - val_sparse_categorical_accuracy: 0.0373\n",
      "Epoch 32/100\n",
      "28/28 [==============================] - 1s 38ms/step - loss: 0.0871 - sparse_categorical_accuracy: 0.9931 - val_loss: 59.7215 - val_sparse_categorical_accuracy: 0.0320\n",
      "Epoch 33/100\n",
      "28/28 [==============================] - 1s 39ms/step - loss: 0.1160 - sparse_categorical_accuracy: 0.9931 - val_loss: 83.7291 - val_sparse_categorical_accuracy: 0.0320\n",
      "Epoch 34/100\n",
      "28/28 [==============================] - 1s 39ms/step - loss: 0.1057 - sparse_categorical_accuracy: 0.9931 - val_loss: 71.7381 - val_sparse_categorical_accuracy: 0.0320\n",
      "Epoch 35/100\n",
      "28/28 [==============================] - 1s 39ms/step - loss: 0.0742 - sparse_categorical_accuracy: 0.9977 - val_loss: 64.3575 - val_sparse_categorical_accuracy: 0.0320\n",
      "Epoch 36/100\n",
      "28/28 [==============================] - 1s 40ms/step - loss: 0.0754 - sparse_categorical_accuracy: 0.9989 - val_loss: 71.7057 - val_sparse_categorical_accuracy: 0.0320\n",
      "Epoch 37/100\n",
      "28/28 [==============================] - 1s 40ms/step - loss: 0.0631 - sparse_categorical_accuracy: 0.9977 - val_loss: 109.8106 - val_sparse_categorical_accuracy: 0.0427\n",
      "Total time: 59.21 seconds\n"
     ]
    }
   ],
   "source": [
    "import time\n",
    "\n",
    "start_pruning_time = time.time()\n",
    "\n",
    "\n",
    "\n",
    "# Train the model\n",
    "history = pruned_model.fit(x=X_train,\n",
    "\n",
    "                    y=y_train,\n",
    "\n",
    "                    epochs=100,\n",
    "\n",
    "                    validation_split=0.3,\n",
    "\n",
    "                    callbacks=[es1, es2, tfmot.sparsity.keras.UpdatePruningStep()])\n",
    "\n",
    "\n",
    "\n",
    "end_time = time.time()\n",
    "\n",
    "total_time = end_time - start_pruning_time \n",
    "\n",
    "print(f\"Total time: {total_time:.2f} seconds\")"
   ]
  },
  {
   "cell_type": "markdown",
   "id": "8c968493",
   "metadata": {
    "papermill": {
     "duration": 0.646082,
     "end_time": "2024-11-02T10:31:20.151442",
     "exception": false,
     "start_time": "2024-11-02T10:31:19.505360",
     "status": "completed"
    },
    "tags": []
   },
   "source": [
    "# Evaluate the model with testing data"
   ]
  },
  {
   "cell_type": "code",
   "execution_count": 57,
   "id": "76c071ac",
   "metadata": {
    "papermill": {
     "duration": 0.856576,
     "end_time": "2024-11-02T10:31:21.659216",
     "exception": false,
     "start_time": "2024-11-02T10:31:20.802640",
     "status": "completed"
    },
    "tags": []
   },
   "outputs": [
    {
     "name": "stdout",
     "output_type": "stream",
     "text": [
      "10/10 [==============================] - 0s 10ms/step - loss: 111.2495 - sparse_categorical_accuracy: 0.0449\n",
      "Test accuracy: 0.044871795922517776\n"
     ]
    }
   ],
   "source": [
    "# Evaluate the model on the test data\n",
    "pruned_test_loss, pruned_test_acc = pruned_model.evaluate(X_test, y_test)\n",
    "print(f\"Test accuracy: {pruned_test_acc}\")"
   ]
  },
  {
   "cell_type": "code",
   "execution_count": 58,
   "id": "fb354cb0",
   "metadata": {
    "papermill": {
     "duration": 0.826368,
     "end_time": "2024-11-02T10:31:23.136950",
     "exception": false,
     "start_time": "2024-11-02T10:31:22.310582",
     "status": "completed"
    },
    "tags": []
   },
   "outputs": [
    {
     "name": "stdout",
     "output_type": "stream",
     "text": [
      "Model size after pruning: 1658.33 KB\n"
     ]
    }
   ],
   "source": [
    "model_save_path = 'cnn_pruned_model1_braille.keras'\n",
    "pruned_model.save(model_save_path)\n",
    "\n",
    "# Get the size of the model in bytes\n",
    "\n",
    "model_size = os.path.getsize(model_save_path)\n",
    "\n",
    "print(f\"Model size after pruning: {model_size / 1024:.2f} KB\")"
   ]
  },
  {
   "cell_type": "code",
   "execution_count": 59,
   "id": "7503051f",
   "metadata": {
    "papermill": {
     "duration": 4.361173,
     "end_time": "2024-11-02T10:31:28.152262",
     "exception": false,
     "start_time": "2024-11-02T10:31:23.791089",
     "status": "completed"
    },
    "tags": []
   },
   "outputs": [
    {
     "name": "stderr",
     "output_type": "stream",
     "text": [
      "WARNING:absl:Found untraced functions such as _jit_compiled_convolution_op, _jit_compiled_convolution_op, _jit_compiled_convolution_op, _jit_compiled_convolution_op, _jit_compiled_convolution_op while saving (showing 5 of 10). These functions will not be directly callable after loading.\n"
     ]
    },
    {
     "name": "stdout",
     "output_type": "stream",
     "text": [
      "INFO:tensorflow:Assets written to: C:\\Users\\User\\AppData\\Local\\Temp\\tmpw1zgg7ee\\assets\n"
     ]
    },
    {
     "name": "stderr",
     "output_type": "stream",
     "text": [
      "INFO:tensorflow:Assets written to: C:\\Users\\User\\AppData\\Local\\Temp\\tmpw1zgg7ee\\assets\n"
     ]
    },
    {
     "name": "stdout",
     "output_type": "stream",
     "text": [
      "Model size after pruning + convert to tf lite: 349.07 KB\n"
     ]
    }
   ],
   "source": [
    "model_for_export = tfmot.sparsity.keras.strip_pruning(pruned_model)\n",
    "\n",
    "converter = tf.lite.TFLiteConverter.from_keras_model(model_for_export)\n",
    "\n",
    "tflite_model = converter.convert()\n",
    "\n",
    "\n",
    "\n",
    "# Save the TFLite model to a file\n",
    "\n",
    "model_save_path = 'pruned_model1_braille.tflite'\n",
    "\n",
    "with open(model_save_path, 'wb') as f:\n",
    "\n",
    "    f.write(tflite_model)\n",
    "\n",
    "\n",
    "\n",
    "model_size = os.path.getsize(model_save_path)\n",
    "\n",
    "print(f\"Model size after pruning + convert to tf lite: {model_size / 1024:.2f} KB\")"
   ]
  },
  {
   "cell_type": "markdown",
   "id": "69035249",
   "metadata": {
    "papermill": {
     "duration": 0.652005,
     "end_time": "2024-11-02T10:31:29.458405",
     "exception": false,
     "start_time": "2024-11-02T10:31:28.806400",
     "status": "completed"
    },
    "tags": []
   },
   "source": [
    "# Post Training Quantization"
   ]
  },
  {
   "cell_type": "code",
   "execution_count": 63,
   "id": "6b0284b2",
   "metadata": {
    "papermill": {
     "duration": 0.764667,
     "end_time": "2024-11-02T10:31:30.874667",
     "exception": false,
     "start_time": "2024-11-02T10:31:30.110000",
     "status": "completed"
    },
    "tags": []
   },
   "outputs": [
    {
     "name": "stdout",
     "output_type": "stream",
     "text": [
      "Model: \"model_1\"\n",
      "__________________________________________________________________________________________________\n",
      " Layer (type)                   Output Shape         Param #     Connected to                     \n",
      "==================================================================================================\n",
      " input_2 (InputLayer)           [(None, 28, 28, 3)]  0           []                               \n",
      "                                                                                                  \n",
      " conv2d_7 (Conv2D)              (None, 28, 28, 16)   448         ['input_2[0][0]']                \n",
      "                                                                                                  \n",
      " batch_normalization_10 (BatchN  (None, 28, 28, 16)  64          ['conv2d_7[2][0]']               \n",
      " ormalization)                                                                                    \n",
      "                                                                                                  \n",
      " re_lu_10 (ReLU)                (None, 28, 28, 16)   0           ['batch_normalization_10[2][0]'] \n",
      "                                                                                                  \n",
      " conv2d_8 (Conv2D)              (None, 28, 28, 16)   272         ['re_lu_10[2][0]']               \n",
      "                                                                                                  \n",
      " batch_normalization_11 (BatchN  (None, 28, 28, 16)  64          ['conv2d_8[2][0]']               \n",
      " ormalization)                                                                                    \n",
      "                                                                                                  \n",
      " re_lu_11 (ReLU)                (None, 28, 28, 16)   0           ['batch_normalization_11[2][0]'] \n",
      "                                                                                                  \n",
      " depthwise_conv2d_3 (DepthwiseC  (None, 28, 28, 16)  160         ['re_lu_11[2][0]']               \n",
      " onv2D)                                                                                           \n",
      "                                                                                                  \n",
      " batch_normalization_12 (BatchN  (None, 28, 28, 16)  64          ['depthwise_conv2d_3[2][0]']     \n",
      " ormalization)                                                                                    \n",
      "                                                                                                  \n",
      " re_lu_12 (ReLU)                (None, 28, 28, 16)   0           ['batch_normalization_12[2][0]'] \n",
      "                                                                                                  \n",
      " conv2d_9 (Conv2D)              (None, 28, 28, 16)   272         ['re_lu_12[2][0]']               \n",
      "                                                                                                  \n",
      " batch_normalization_13 (BatchN  (None, 28, 28, 16)  64          ['conv2d_9[2][0]']               \n",
      " ormalization)                                                                                    \n",
      "                                                                                                  \n",
      " re_lu_13 (ReLU)                (None, 28, 28, 16)   0           ['batch_normalization_13[2][0]'] \n",
      "                                                                                                  \n",
      " concatenate_3 (Concatenate)    (None, 28, 28, 32)   0           ['re_lu_11[2][0]',               \n",
      "                                                                  're_lu_13[2][0]']               \n",
      "                                                                                                  \n",
      " max_pooling2d_2 (MaxPooling2D)  (None, 14, 14, 32)  0           ['concatenate_3[2][0]']          \n",
      "                                                                                                  \n",
      " conv2d_10 (Conv2D)             (None, 14, 14, 32)   1056        ['max_pooling2d_2[2][0]']        \n",
      "                                                                                                  \n",
      " batch_normalization_14 (BatchN  (None, 14, 14, 32)  128         ['conv2d_10[2][0]']              \n",
      " ormalization)                                                                                    \n",
      "                                                                                                  \n",
      " re_lu_14 (ReLU)                (None, 14, 14, 32)   0           ['batch_normalization_14[2][0]'] \n",
      "                                                                                                  \n",
      " depthwise_conv2d_4 (DepthwiseC  (None, 14, 14, 32)  320         ['re_lu_14[2][0]']               \n",
      " onv2D)                                                                                           \n",
      "                                                                                                  \n",
      " batch_normalization_15 (BatchN  (None, 14, 14, 32)  128         ['depthwise_conv2d_4[2][0]']     \n",
      " ormalization)                                                                                    \n",
      "                                                                                                  \n",
      " re_lu_15 (ReLU)                (None, 14, 14, 32)   0           ['batch_normalization_15[2][0]'] \n",
      "                                                                                                  \n",
      " conv2d_11 (Conv2D)             (None, 14, 14, 32)   1056        ['re_lu_15[2][0]']               \n",
      "                                                                                                  \n",
      " batch_normalization_16 (BatchN  (None, 14, 14, 32)  128         ['conv2d_11[2][0]']              \n",
      " ormalization)                                                                                    \n",
      "                                                                                                  \n",
      " re_lu_16 (ReLU)                (None, 14, 14, 32)   0           ['batch_normalization_16[2][0]'] \n",
      "                                                                                                  \n",
      " concatenate_4 (Concatenate)    (None, 14, 14, 64)   0           ['re_lu_14[2][0]',               \n",
      "                                                                  're_lu_16[2][0]']               \n",
      "                                                                                                  \n",
      " max_pooling2d_3 (MaxPooling2D)  (None, 7, 7, 64)    0           ['concatenate_4[2][0]']          \n",
      "                                                                                                  \n",
      " conv2d_12 (Conv2D)             (None, 7, 7, 64)     4160        ['max_pooling2d_3[2][0]']        \n",
      "                                                                                                  \n",
      " batch_normalization_17 (BatchN  (None, 7, 7, 64)    256         ['conv2d_12[2][0]']              \n",
      " ormalization)                                                                                    \n",
      "                                                                                                  \n",
      " re_lu_17 (ReLU)                (None, 7, 7, 64)     0           ['batch_normalization_17[2][0]'] \n",
      "                                                                                                  \n",
      " depthwise_conv2d_5 (DepthwiseC  (None, 7, 7, 64)    640         ['re_lu_17[2][0]']               \n",
      " onv2D)                                                                                           \n",
      "                                                                                                  \n",
      " batch_normalization_18 (BatchN  (None, 7, 7, 64)    256         ['depthwise_conv2d_5[2][0]']     \n",
      " ormalization)                                                                                    \n",
      "                                                                                                  \n",
      " re_lu_18 (ReLU)                (None, 7, 7, 64)     0           ['batch_normalization_18[2][0]'] \n",
      "                                                                                                  \n",
      " conv2d_13 (Conv2D)             (None, 7, 7, 64)     4160        ['re_lu_18[2][0]']               \n",
      "                                                                                                  \n",
      " batch_normalization_19 (BatchN  (None, 7, 7, 64)    256         ['conv2d_13[2][0]']              \n",
      " ormalization)                                                                                    \n",
      "                                                                                                  \n",
      " re_lu_19 (ReLU)                (None, 7, 7, 64)     0           ['batch_normalization_19[2][0]'] \n",
      "                                                                                                  \n",
      " concatenate_5 (Concatenate)    (None, 7, 7, 128)    0           ['re_lu_17[2][0]',               \n",
      "                                                                  're_lu_19[2][0]']               \n",
      "                                                                                                  \n",
      " global_average_pooling2d_1 (Gl  (None, 128)         0           ['concatenate_5[2][0]']          \n",
      " obalAveragePooling2D)                                                                            \n",
      "                                                                                                  \n",
      " dense_1 (Dense)                (None, 576)          74304       ['global_average_pooling2d_1[2][0\n",
      "                                                                 ]']                              \n",
      "                                                                                                  \n",
      "==================================================================================================\n",
      "Total params: 88,256\n",
      "Trainable params: 87,552\n",
      "Non-trainable params: 704\n",
      "__________________________________________________________________________________________________\n"
     ]
    }
   ],
   "source": [
    "# Strip the pruning wrappers to finalize the pruned model\n",
    "final_model = tfmot.sparsity.keras.strip_pruning(pruned_model)\n",
    "final_model.summary()"
   ]
  },
  {
   "cell_type": "code",
   "execution_count": 64,
   "id": "cd2183dd",
   "metadata": {
    "papermill": {
     "duration": 3.975967,
     "end_time": "2024-11-02T10:31:35.502899",
     "exception": false,
     "start_time": "2024-11-02T10:31:31.526932",
     "status": "completed"
    },
    "tags": []
   },
   "outputs": [
    {
     "name": "stderr",
     "output_type": "stream",
     "text": [
      "WARNING:absl:Found untraced functions such as _jit_compiled_convolution_op, _jit_compiled_convolution_op, _jit_compiled_convolution_op, _jit_compiled_convolution_op, _jit_compiled_convolution_op while saving (showing 5 of 10). These functions will not be directly callable after loading.\n"
     ]
    },
    {
     "name": "stdout",
     "output_type": "stream",
     "text": [
      "INFO:tensorflow:Assets written to: C:\\Users\\User\\AppData\\Local\\Temp\\tmpy1xa_ogj\\assets\n"
     ]
    },
    {
     "name": "stderr",
     "output_type": "stream",
     "text": [
      "INFO:tensorflow:Assets written to: C:\\Users\\User\\AppData\\Local\\Temp\\tmpy1xa_ogj\\assets\n"
     ]
    }
   ],
   "source": [
    "# Convert to TensorFlow Lite model with quantization\n",
    "\n",
    "converter = tf.lite.TFLiteConverter.from_keras_model(final_model)\n",
    "\n",
    "\n",
    "\n",
    "# Set quantization parameters\n",
    "\n",
    "converter.optimizations = [tf.lite.Optimize.DEFAULT]  # Default optimization includes quantization\n",
    "\n",
    "\n",
    "\n",
    "# Optionally, if you have representative data, you can enable full integer quantization:\n",
    "\n",
    "# Provide a representative dataset for better accuracy in quantization\n",
    "\n",
    "def representative_dataset():\n",
    "\n",
    "    for data in X_test.take(100):  # use a small sample of your data <<< what if we change this to 1000? to all data? 70rb? how?\n",
    "\n",
    "        yield [tf.dtypes.cast(data, tf.float32)] # can we change this to integer?\n",
    "\n",
    "\n",
    "\n",
    "converter.representative_dataset = representative_dataset\n",
    "\n",
    "converter.target_spec.supported_types = [tf.float16]  # This can be int8 as well, hm... << nope, error\n",
    "\n",
    "\n",
    "\n",
    "# Convert the model\n",
    "\n",
    "quantized_tflite_model = converter.convert()\n",
    "\n",
    "\n",
    "\n",
    "# Save the quantized model to a file\n",
    "\n",
    "with open('quantized_pruned_model1_braille.tflite', 'wb') as f:\n",
    "\n",
    "    f.write(quantized_tflite_model)\n",
    "\n",
    "\n",
    "\n",
    "# To load and use the TFLite model later:\n",
    "\n",
    "interpreter = tf.lite.Interpreter(model_path='quantized_pruned_model1_braille.tflite')\n",
    "\n",
    "interpreter.allocate_tensors()"
   ]
  },
  {
   "cell_type": "code",
   "execution_count": 65,
   "id": "03664c4b",
   "metadata": {
    "papermill": {
     "duration": 0.666079,
     "end_time": "2024-11-02T10:31:36.819543",
     "exception": false,
     "start_time": "2024-11-02T10:31:36.153464",
     "status": "completed"
    },
    "tags": []
   },
   "outputs": [],
   "source": [
    "final_model.compile(optimizer=\"Adam\", loss=\"SparseCategoricalCrossentropy\", metrics=[\"sparse_categorical_accuracy\"])"
   ]
  },
  {
   "cell_type": "code",
   "execution_count": 66,
   "id": "eafc4f51",
   "metadata": {
    "papermill": {
     "duration": 43.821831,
     "end_time": "2024-11-02T10:32:21.292738",
     "exception": false,
     "start_time": "2024-11-02T10:31:37.470907",
     "status": "completed"
    },
    "tags": []
   },
   "outputs": [
    {
     "name": "stdout",
     "output_type": "stream",
     "text": [
      "Epoch 1/100\n",
      "28/28 [==============================] - 4s 59ms/step - loss: 0.0977 - sparse_categorical_accuracy: 0.9863 - val_loss: 69.3941 - val_sparse_categorical_accuracy: 0.0453\n",
      "Epoch 2/100\n",
      "28/28 [==============================] - 2s 61ms/step - loss: 0.0938 - sparse_categorical_accuracy: 0.9931 - val_loss: 39.6835 - val_sparse_categorical_accuracy: 0.0453\n",
      "Epoch 3/100\n",
      "28/28 [==============================] - 1s 37ms/step - loss: 0.0857 - sparse_categorical_accuracy: 0.9931 - val_loss: 30.1881 - val_sparse_categorical_accuracy: 0.0347\n",
      "Epoch 4/100\n",
      "28/28 [==============================] - 1s 39ms/step - loss: 0.0688 - sparse_categorical_accuracy: 0.9954 - val_loss: 52.6186 - val_sparse_categorical_accuracy: 0.0507\n",
      "Epoch 5/100\n",
      "28/28 [==============================] - 1s 38ms/step - loss: 0.0591 - sparse_categorical_accuracy: 0.9989 - val_loss: 56.1915 - val_sparse_categorical_accuracy: 0.0400\n",
      "Epoch 6/100\n",
      "28/28 [==============================] - 1s 37ms/step - loss: 0.0544 - sparse_categorical_accuracy: 1.0000 - val_loss: 323.5452 - val_sparse_categorical_accuracy: 0.0400\n",
      "Epoch 7/100\n",
      "28/28 [==============================] - 1s 41ms/step - loss: 0.0459 - sparse_categorical_accuracy: 0.9977 - val_loss: 160.4286 - val_sparse_categorical_accuracy: 0.0427\n",
      "Epoch 8/100\n",
      "28/28 [==============================] - 1s 43ms/step - loss: 0.0561 - sparse_categorical_accuracy: 0.9989 - val_loss: 71.9566 - val_sparse_categorical_accuracy: 0.0373\n",
      "Epoch 9/100\n",
      "28/28 [==============================] - 1s 48ms/step - loss: 0.0419 - sparse_categorical_accuracy: 1.0000 - val_loss: 51.2813 - val_sparse_categorical_accuracy: 0.0507\n",
      "Epoch 10/100\n",
      "28/28 [==============================] - 1s 47ms/step - loss: 0.0787 - sparse_categorical_accuracy: 0.9931 - val_loss: 371.6355 - val_sparse_categorical_accuracy: 0.0427\n",
      "Epoch 11/100\n",
      "28/28 [==============================] - 3s 98ms/step - loss: 0.0535 - sparse_categorical_accuracy: 0.9966 - val_loss: 100.1142 - val_sparse_categorical_accuracy: 0.0427\n",
      "Epoch 12/100\n",
      "28/28 [==============================] - 1s 47ms/step - loss: 0.0425 - sparse_categorical_accuracy: 0.9977 - val_loss: 109.3339 - val_sparse_categorical_accuracy: 0.0427\n",
      "Epoch 13/100\n",
      "28/28 [==============================] - 1s 52ms/step - loss: 0.0317 - sparse_categorical_accuracy: 0.9989 - val_loss: 76.9869 - val_sparse_categorical_accuracy: 0.0453\n",
      "Epoch 14/100\n",
      "28/28 [==============================] - 1s 43ms/step - loss: 0.0327 - sparse_categorical_accuracy: 1.0000 - val_loss: 36.3379 - val_sparse_categorical_accuracy: 0.0480\n",
      "Epoch 15/100\n",
      "28/28 [==============================] - 3s 109ms/step - loss: 0.0681 - sparse_categorical_accuracy: 0.9908 - val_loss: 100.3732 - val_sparse_categorical_accuracy: 0.0373\n",
      "Epoch 16/100\n",
      "28/28 [==============================] - 1s 37ms/step - loss: 0.0762 - sparse_categorical_accuracy: 0.9897 - val_loss: 83.7642 - val_sparse_categorical_accuracy: 0.0320\n",
      "Epoch 17/100\n",
      "28/28 [==============================] - 2s 53ms/step - loss: 0.0896 - sparse_categorical_accuracy: 0.9897 - val_loss: 265.8127 - val_sparse_categorical_accuracy: 0.0427\n",
      "Epoch 18/100\n",
      "28/28 [==============================] - 1s 38ms/step - loss: 0.0450 - sparse_categorical_accuracy: 0.9977 - val_loss: 297.1588 - val_sparse_categorical_accuracy: 0.0453\n",
      "Epoch 19/100\n",
      "28/28 [==============================] - 1s 39ms/step - loss: 0.0359 - sparse_categorical_accuracy: 0.9977 - val_loss: 227.2869 - val_sparse_categorical_accuracy: 0.0453\n",
      "Epoch 20/100\n",
      "28/28 [==============================] - 1s 42ms/step - loss: 0.0524 - sparse_categorical_accuracy: 0.9966 - val_loss: 257.7905 - val_sparse_categorical_accuracy: 0.0427\n",
      "Epoch 21/100\n",
      "28/28 [==============================] - 1s 38ms/step - loss: 0.0305 - sparse_categorical_accuracy: 1.0000 - val_loss: 211.7232 - val_sparse_categorical_accuracy: 0.0427\n",
      "Epoch 22/100\n",
      "28/28 [==============================] - 1s 37ms/step - loss: 0.0208 - sparse_categorical_accuracy: 1.0000 - val_loss: 177.2240 - val_sparse_categorical_accuracy: 0.0427\n",
      "Epoch 23/100\n",
      "28/28 [==============================] - 1s 38ms/step - loss: 0.0188 - sparse_categorical_accuracy: 1.0000 - val_loss: 158.9407 - val_sparse_categorical_accuracy: 0.0427\n",
      "Total time: 33.49 seconds\n"
     ]
    }
   ],
   "source": [
    "start_quantization_time = time.time()\n",
    "\n",
    "\n",
    "\n",
    "history = final_model.fit(x=X_train,\n",
    "\n",
    "                    y=y_train,\n",
    "\n",
    "                    epochs=100,\n",
    "\n",
    "                    validation_split=0.3,\n",
    "\n",
    "                    callbacks=[es1, es2, tfmot.sparsity.keras.UpdatePruningStep()])\n",
    "\n",
    "\n",
    "\n",
    "end_time = time.time()\n",
    "\n",
    "total_time = end_time - start_quantization_time \n",
    "\n",
    "print(f\"Total time: {total_time:.2f} seconds\")"
   ]
  },
  {
   "cell_type": "code",
   "execution_count": 67,
   "id": "c3ec10be",
   "metadata": {
    "papermill": {
     "duration": 0.871497,
     "end_time": "2024-11-02T10:32:23.027579",
     "exception": false,
     "start_time": "2024-11-02T10:32:22.156082",
     "status": "completed"
    },
    "tags": []
   },
   "outputs": [
    {
     "name": "stdout",
     "output_type": "stream",
     "text": [
      "Model size after quantization: 184.26 KB\n"
     ]
    }
   ],
   "source": [
    "model_size = os.path.getsize('quantized_pruned_model1_braille.tflite')\n",
    "\n",
    "print(f\"Model size after quantization: {model_size / 1024:.2f} KB\")"
   ]
  },
  {
   "cell_type": "code",
   "execution_count": 68,
   "id": "353776c4",
   "metadata": {
    "papermill": {
     "duration": 1.086313,
     "end_time": "2024-11-02T10:32:24.975348",
     "exception": false,
     "start_time": "2024-11-02T10:32:23.889035",
     "status": "completed"
    },
    "tags": []
   },
   "outputs": [
    {
     "name": "stdout",
     "output_type": "stream",
     "text": [
      "10/10 [==============================] - 0s 10ms/step - loss: 161.7095 - sparse_categorical_accuracy: 0.0449\n",
      "Test accuracy: 0.044871795922517776\n"
     ]
    }
   ],
   "source": [
    "# Evaluate the model on the test data\n",
    "\n",
    "final_test_loss, final_test_acc = final_model.evaluate(X_test, y_test)\n",
    "\n",
    "\n",
    "\n",
    "print(f\"Test accuracy: {final_test_acc}\")"
   ]
  }
 ],
 "metadata": {
  "kaggle": {
   "accelerator": "none",
   "dataSources": [
    {
     "datasetId": 452244,
     "sourceId": 853989,
     "sourceType": "datasetVersion"
    }
   ],
   "dockerImageVersionId": 30786,
   "isGpuEnabled": false,
   "isInternetEnabled": true,
   "language": "python",
   "sourceType": "notebook"
  },
  "kernelspec": {
   "display_name": "digit-recognition",
   "language": "python",
   "name": "digit-recognition"
  },
  "language_info": {
   "codemirror_mode": {
    "name": "ipython",
    "version": 3
   },
   "file_extension": ".py",
   "mimetype": "text/x-python",
   "name": "python",
   "nbconvert_exporter": "python",
   "pygments_lexer": "ipython3",
   "version": "3.10.13"
  },
  "papermill": {
   "default_parameters": {},
   "duration": 566.666987,
   "end_time": "2024-11-02T10:37:34.209483",
   "environment_variables": {},
   "exception": null,
   "input_path": "__notebook__.ipynb",
   "output_path": "__notebook__.ipynb",
   "parameters": {},
   "start_time": "2024-11-02T10:28:07.542496",
   "version": "2.3.3"
  }
 },
 "nbformat": 4,
 "nbformat_minor": 5
}
